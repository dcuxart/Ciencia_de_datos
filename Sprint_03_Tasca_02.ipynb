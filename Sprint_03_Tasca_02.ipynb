{
 "cells": [
  {
   "cell_type": "code",
   "execution_count": 1269,
   "id": "4e05e346",
   "metadata": {},
   "outputs": [],
   "source": [
    "#------- EXERCICI 1 --- ACABAT\n",
    "import pandas as pd\n",
    "\n",
    "data = pd.read_csv('DelayedFlights.csv')\n",
    "\n",
    "df = data.sample(n=200000, replace=False)\n",
    "\n",
    "df = df[[\n",
    "    #'Unnamed: 0', 'Year', 'Month', 'DayofMonth',\n",
    "    'DayOfWeek',\n",
    "    #'DepTime',\n",
    "    #'CRSDepTime', 'ArrTime', 'CRSArrTime',\n",
    "    'UniqueCarrier', 'FlightNum', 'TailNum', 'ActualElapsedTime',\n",
    "    #'CRSElapsedTime',\n",
    "    'AirTime', 'ArrDelay', 'DepDelay', 'Origin', 'Dest', 'Distance', \n",
    "    #'TaxiIn', 'TaxiOut', 'Cancelled', 'CancellationCode', 'Diverted', 'CarrierDelay',\n",
    "    #'WeatherDelay', 'NASDelay', 'SecurityDelay',\n",
    "    #'LateAircraftDelay'\n",
    "    ]].copy()"
   ]
  },
  {
   "cell_type": "markdown",
   "id": "4abfb08a",
   "metadata": {},
   "source": [
    "En este dataset podemos encontrar información sobre los vuelos de 20 aerolíneas comerciales en los Estados Unidos en 2008. Ésta muestra del dataset contiene 30 columnas con datos sobre 200.000 vuelos tanto antes de realizarse, así como tras la finalización de los mismos. De esta manera, por ejemplo, podemos obtener información sobre retrasos, desviaciones o cancelaciones y sus causas.\n",
    "\n",
    "Puesto que no sabría extraer información de ello, podría eliminar las dos columnas que hacen referencia a la bajada y la subida del tren de aterrizaje (TaxiIn y TaxiOut).\n",
    "\n",
    "Por otro lado, tambien puedo eliminar todas las columnas que se refieren a los retrasos y las cancelaciones según la causa, así como las columnas sobre la fecha como \"Year\", \"Month\" o \"DayOfMonth\", como también aquellas relacionadas con la programación original del vuelo como \"CRSDepTime\" o \"CRSElapsedTime\", ya que tampoco haré uso de estas columnas para los ejercicios que siguen.\n",
    "\n",
    "Finalmente, modifico el nombre de las columnas para facilitar la lectura y vuelvo a indexar los registros para darles un valor entre 0 y 200.000 acorde con la totalidad de la muestra y no con la base de datos original."
   ]
  },
  {
   "cell_type": "code",
   "execution_count": 1270,
   "id": "d4fc4a6b",
   "metadata": {},
   "outputs": [],
   "source": [
    "df = df.rename(columns = {'DayOfWeek':'Day_Of_Week',\n",
    "                          'UniqueCarrier':'Carrier',\n",
    "                          'FlightNum':'Flight_Number',\n",
    "                          'TailNum':'Tail_Number',\n",
    "                          'ActualElapsedTime':'Actual_Elapsed_Time',\n",
    "                          'AirTime':'Air_Time',\n",
    "                          'ArrDelay':'Arrival_Delay',\n",
    "                          'DepDelay':'Departure_Delay',\n",
    "                          'Dest':'Destination'}) \\\n",
    "    .reset_index(drop=True)"
   ]
  },
  {
   "cell_type": "code",
   "execution_count": 1271,
   "id": "ee46b490",
   "metadata": {},
   "outputs": [
    {
     "data": {
      "text/html": [
       "<div>\n",
       "<style scoped>\n",
       "    .dataframe tbody tr th:only-of-type {\n",
       "        vertical-align: middle;\n",
       "    }\n",
       "\n",
       "    .dataframe tbody tr th {\n",
       "        vertical-align: top;\n",
       "    }\n",
       "\n",
       "    .dataframe thead th {\n",
       "        text-align: right;\n",
       "    }\n",
       "</style>\n",
       "<table border=\"1\" class=\"dataframe\">\n",
       "  <thead>\n",
       "    <tr style=\"text-align: right;\">\n",
       "      <th></th>\n",
       "      <th>Day_Of_Week</th>\n",
       "      <th>Flight_Number</th>\n",
       "      <th>Actual_Elapsed_Time</th>\n",
       "      <th>Air_Time</th>\n",
       "      <th>Arrival_Delay</th>\n",
       "      <th>Departure_Delay</th>\n",
       "      <th>Distance</th>\n",
       "    </tr>\n",
       "  </thead>\n",
       "  <tbody>\n",
       "    <tr>\n",
       "      <th>count</th>\n",
       "      <td>200000.000000</td>\n",
       "      <td>200000.000000</td>\n",
       "      <td>199143.00000</td>\n",
       "      <td>199143.000000</td>\n",
       "      <td>199143.000000</td>\n",
       "      <td>200000.000000</td>\n",
       "      <td>200000.000000</td>\n",
       "    </tr>\n",
       "    <tr>\n",
       "      <th>mean</th>\n",
       "      <td>3.984500</td>\n",
       "      <td>2179.884515</td>\n",
       "      <td>133.53914</td>\n",
       "      <td>108.503010</td>\n",
       "      <td>42.238452</td>\n",
       "      <td>43.210735</td>\n",
       "      <td>767.218140</td>\n",
       "    </tr>\n",
       "    <tr>\n",
       "      <th>std</th>\n",
       "      <td>1.994598</td>\n",
       "      <td>1940.689048</td>\n",
       "      <td>72.30047</td>\n",
       "      <td>68.894476</td>\n",
       "      <td>56.837888</td>\n",
       "      <td>53.523171</td>\n",
       "      <td>575.674506</td>\n",
       "    </tr>\n",
       "    <tr>\n",
       "      <th>min</th>\n",
       "      <td>1.000000</td>\n",
       "      <td>1.000000</td>\n",
       "      <td>15.00000</td>\n",
       "      <td>1.000000</td>\n",
       "      <td>-70.000000</td>\n",
       "      <td>6.000000</td>\n",
       "      <td>30.000000</td>\n",
       "    </tr>\n",
       "    <tr>\n",
       "      <th>25%</th>\n",
       "      <td>2.000000</td>\n",
       "      <td>610.000000</td>\n",
       "      <td>80.00000</td>\n",
       "      <td>58.000000</td>\n",
       "      <td>9.000000</td>\n",
       "      <td>12.000000</td>\n",
       "      <td>340.000000</td>\n",
       "    </tr>\n",
       "    <tr>\n",
       "      <th>50%</th>\n",
       "      <td>4.000000</td>\n",
       "      <td>1537.000000</td>\n",
       "      <td>116.00000</td>\n",
       "      <td>90.000000</td>\n",
       "      <td>24.000000</td>\n",
       "      <td>24.000000</td>\n",
       "      <td>609.000000</td>\n",
       "    </tr>\n",
       "    <tr>\n",
       "      <th>75%</th>\n",
       "      <td>6.000000</td>\n",
       "      <td>3416.000000</td>\n",
       "      <td>165.00000</td>\n",
       "      <td>137.000000</td>\n",
       "      <td>56.000000</td>\n",
       "      <td>53.000000</td>\n",
       "      <td>999.000000</td>\n",
       "    </tr>\n",
       "    <tr>\n",
       "      <th>max</th>\n",
       "      <td>7.000000</td>\n",
       "      <td>9740.000000</td>\n",
       "      <td>776.00000</td>\n",
       "      <td>645.000000</td>\n",
       "      <td>1542.000000</td>\n",
       "      <td>1545.000000</td>\n",
       "      <td>4962.000000</td>\n",
       "    </tr>\n",
       "  </tbody>\n",
       "</table>\n",
       "</div>"
      ],
      "text/plain": [
       "         Day_Of_Week  Flight_Number  Actual_Elapsed_Time       Air_Time  \\\n",
       "count  200000.000000  200000.000000         199143.00000  199143.000000   \n",
       "mean        3.984500    2179.884515            133.53914     108.503010   \n",
       "std         1.994598    1940.689048             72.30047      68.894476   \n",
       "min         1.000000       1.000000             15.00000       1.000000   \n",
       "25%         2.000000     610.000000             80.00000      58.000000   \n",
       "50%         4.000000    1537.000000            116.00000      90.000000   \n",
       "75%         6.000000    3416.000000            165.00000     137.000000   \n",
       "max         7.000000    9740.000000            776.00000     645.000000   \n",
       "\n",
       "       Arrival_Delay  Departure_Delay       Distance  \n",
       "count  199143.000000    200000.000000  200000.000000  \n",
       "mean       42.238452        43.210735     767.218140  \n",
       "std        56.837888        53.523171     575.674506  \n",
       "min       -70.000000         6.000000      30.000000  \n",
       "25%         9.000000        12.000000     340.000000  \n",
       "50%        24.000000        24.000000     609.000000  \n",
       "75%        56.000000        53.000000     999.000000  \n",
       "max      1542.000000      1545.000000    4962.000000  "
      ]
     },
     "execution_count": 1271,
     "metadata": {},
     "output_type": "execute_result"
    }
   ],
   "source": [
    "df.describe()"
   ]
  },
  {
   "cell_type": "markdown",
   "id": "4e6d366a",
   "metadata": {},
   "source": [
    "Al ejecutar la función describe() podemos ver que faltan algunos datos en al menos 3 columnas, por lo que tendremos que volver a ellas más adelante.\n",
    "\n",
    "Por otro lado, también podemos observar que el valor mínimo de la columna 'Arrival_Delay' es negativo. Esto es normal, ya que en esta misma columna se expresa mediante un valor negativo cuando el vuelo llega antes de lo programado.\n",
    "\n",
    "Sin embargo, el valor máximo de la misma columna de 'Arrival_Delay' parece demasiado elevado en comparación con el 75% más bajo, que a penas llega a la hora de retraso, así que acto seguido miraremos si sigue una progresión normal.\n",
    "\n",
    "Finalmente, también podemos observar que el valor mínimo de la columna 'Distance' parece muy bajo para un trayecto en avión, por lo que podría ser un error a primera vista, sin emabrgo al ver la cantidad de vuelos por distancia vemos que es normal que haya trayectos así de cortos."
   ]
  },
  {
   "cell_type": "code",
   "execution_count": 1272,
   "id": "43158a10",
   "metadata": {
    "scrolled": true
   },
   "outputs": [
    {
     "data": {
      "text/plain": [
       "<Axes: ylabel='Frequency'>"
      ]
     },
     "execution_count": 1272,
     "metadata": {},
     "output_type": "execute_result"
    },
    {
     "data": {
      "image/png": "[encoded data removed]",
      "text/plain": [
       "<Figure size 640x480 with 1 Axes>"
      ]
     },
     "metadata": {},
     "output_type": "display_data"
    }
   ],
   "source": [
    "df['Distance'].plot(kind='hist', bins=100)\n",
    "#df0 = df[['Distance', 'Origin', 'Destination']]\n",
    "#df0.groupby('Distance')\n",
    "#df0.sort_values(by='Distance', ascending=True)[:5]"
   ]
  },
  {
   "cell_type": "markdown",
   "id": "262cfb64",
   "metadata": {},
   "source": [
    "De vuelta al valor máximo de la misma columna de 'Arrival_Delay', al consultar en un histograma la distribución de los registros según el tiempo de retraso, podemos observar que parece disminuir de manera normal y que sean pocos los vuelos que acumulan mucho retraso."
   ]
  },
  {
   "cell_type": "code",
   "execution_count": 1273,
   "id": "971d8f68",
   "metadata": {},
   "outputs": [
    {
     "data": {
      "text/plain": [
       "<Axes: ylabel='Frequency'>"
      ]
     },
     "execution_count": 1273,
     "metadata": {},
     "output_type": "execute_result"
    },
    {
     "data": {
      "image/png": "[encoded data removed]",
      "text/plain": [
       "<Figure size 640x480 with 1 Axes>"
      ]
     },
     "metadata": {},
     "output_type": "display_data"
    }
   ],
   "source": [
    "df['Arrival_Delay'].plot(kind='hist', bins=300)"
   ]
  },
  {
   "cell_type": "code",
   "execution_count": 1274,
   "id": "ef172593",
   "metadata": {},
   "outputs": [
    {
     "data": {
      "text/plain": [
       "Day_Of_Week              int64\n",
       "Carrier                 object\n",
       "Flight_Number            int64\n",
       "Tail_Number             object\n",
       "Actual_Elapsed_Time    float64\n",
       "Air_Time               float64\n",
       "Arrival_Delay          float64\n",
       "Departure_Delay        float64\n",
       "Origin                  object\n",
       "Destination             object\n",
       "Distance                 int64\n",
       "dtype: object"
      ]
     },
     "execution_count": 1274,
     "metadata": {},
     "output_type": "execute_result"
    }
   ],
   "source": [
    "df.dtypes"
   ]
  },
  {
   "cell_type": "markdown",
   "id": "07d7fcb9",
   "metadata": {},
   "source": [
    "Por último vemos que el tipo de dato tiene sentido con lo que representan, así que los dejaremos sin modificar."
   ]
  },
  {
   "cell_type": "code",
   "execution_count": 1275,
   "id": "df3e78c6",
   "metadata": {},
   "outputs": [
    {
     "name": "stdout",
     "output_type": "stream",
     "text": [
      "Los registros que faltan por columna son:\n"
     ]
    },
    {
     "data": {
      "text/plain": [
       "Day_Of_Week              0\n",
       "Carrier                  0\n",
       "Flight_Number            0\n",
       "Tail_Number              0\n",
       "Actual_Elapsed_Time    857\n",
       "Air_Time               857\n",
       "Arrival_Delay          857\n",
       "Departure_Delay          0\n",
       "Origin                   0\n",
       "Destination              0\n",
       "Distance                 0\n",
       "dtype: int64"
      ]
     },
     "execution_count": 1275,
     "metadata": {},
     "output_type": "execute_result"
    }
   ],
   "source": [
    "#------- EXERCICI 2 --- ACABAT\n",
    "### Troba quantes dades faltants hi ha per columna.\n",
    "print('Los registros que faltan por columna son:')\n",
    "pd.isnull(df).sum()"
   ]
  },
  {
   "cell_type": "code",
   "execution_count": 1276,
   "id": "d1054582",
   "metadata": {
    "scrolled": true
   },
   "outputs": [
    {
     "name": "stdout",
     "output_type": "stream",
     "text": [
      "Day_Of_Week            0\n",
      "Carrier                0\n",
      "Flight_Number          0\n",
      "Tail_Number            0\n",
      "Actual_Elapsed_Time    0\n",
      "Air_Time               0\n",
      "Arrival_Delay          0\n",
      "Departure_Delay        0\n",
      "Origin                 0\n",
      "Destination            0\n",
      "Distance               0\n",
      "dtype: int64\n"
     ]
    }
   ],
   "source": [
    "#------- EXERCICI 2 --- ACABAT\n",
    "### Depuración: Rellenar Na con la media.\n",
    "df[['Actual_Elapsed_Time', 'Air_Time', 'Arrival_Delay']] = df[['Actual_Elapsed_Time', 'Air_Time', 'Arrival_Delay']].fillna(df[['Actual_Elapsed_Time', 'Air_Time', 'Arrival_Delay']].mean())\n",
    "\n",
    "print(df.isna().sum())"
   ]
  },
  {
   "cell_type": "code",
   "execution_count": 1277,
   "id": "e3e6aee5",
   "metadata": {},
   "outputs": [
    {
     "data": {
      "text/html": [
       "<div>\n",
       "<style scoped>\n",
       "    .dataframe tbody tr th:only-of-type {\n",
       "        vertical-align: middle;\n",
       "    }\n",
       "\n",
       "    .dataframe tbody tr th {\n",
       "        vertical-align: top;\n",
       "    }\n",
       "\n",
       "    .dataframe thead th {\n",
       "        text-align: right;\n",
       "    }\n",
       "</style>\n",
       "<table border=\"1\" class=\"dataframe\">\n",
       "  <thead>\n",
       "    <tr style=\"text-align: right;\">\n",
       "      <th></th>\n",
       "      <th>Arrival_Delay</th>\n",
       "    </tr>\n",
       "    <tr>\n",
       "      <th>Day_Of_Week</th>\n",
       "      <th></th>\n",
       "    </tr>\n",
       "  </thead>\n",
       "  <tbody>\n",
       "    <tr>\n",
       "      <th>5</th>\n",
       "      <td>1.464918e+06</td>\n",
       "    </tr>\n",
       "    <tr>\n",
       "      <th>7</th>\n",
       "      <td>1.316373e+06</td>\n",
       "    </tr>\n",
       "    <tr>\n",
       "      <th>1</th>\n",
       "      <td>1.240536e+06</td>\n",
       "    </tr>\n",
       "    <tr>\n",
       "      <th>4</th>\n",
       "      <td>1.225713e+06</td>\n",
       "    </tr>\n",
       "    <tr>\n",
       "      <th>2</th>\n",
       "      <td>1.173323e+06</td>\n",
       "    </tr>\n",
       "    <tr>\n",
       "      <th>3</th>\n",
       "      <td>1.106881e+06</td>\n",
       "    </tr>\n",
       "    <tr>\n",
       "      <th>6</th>\n",
       "      <td>9.199458e+05</td>\n",
       "    </tr>\n",
       "  </tbody>\n",
       "</table>\n",
       "</div>"
      ],
      "text/plain": [
       "             Arrival_Delay\n",
       "Day_Of_Week               \n",
       "5             1.464918e+06\n",
       "7             1.316373e+06\n",
       "1             1.240536e+06\n",
       "4             1.225713e+06\n",
       "2             1.173323e+06\n",
       "3             1.106881e+06\n",
       "6             9.199458e+05"
      ]
     },
     "execution_count": 1277,
     "metadata": {},
     "output_type": "execute_result"
    }
   ],
   "source": [
    "#------- EXERCICI 2 --- ACABAT\n",
    "### Haz un análisis estadístico que consideres relevante.\n",
    "df1 = df[['Day_Of_Week', 'Arrival_Delay']]\n",
    "df1_DayOfWeek_Delay = df1.groupby('Day_Of_Week').aggregate(sum)\n",
    "df1_DayOfWeek_Delay.sort_values(by='Arrival_Delay', ascending=False)"
   ]
  },
  {
   "cell_type": "markdown",
   "id": "5b0170f8",
   "metadata": {},
   "source": [
    "En esta nuevo data frame podemos ver que el mayor número de retrasos suceden los viernes (5) y los domingos (7) posiblemente debido a las idas y las vueltas del fin de semana, y que por la misma razón que el menor número de retrasos se dan en sábado (6)."
   ]
  },
  {
   "cell_type": "code",
   "execution_count": 1278,
   "id": "97a95e7a",
   "metadata": {
    "scrolled": false
   },
   "outputs": [
    {
     "name": "stderr",
     "output_type": "stream",
     "text": [
      "C:\\Users\\dcuxa\\AppData\\Local\\Temp\\ipykernel_32632\\2382179659.py:4: SettingWithCopyWarning: \n",
      "A value is trying to be set on a copy of a slice from a DataFrame.\n",
      "Try using .loc[row_indexer,col_indexer] = value instead\n",
      "\n",
      "See the caveats in the documentation: https://pandas.pydata.org/pandas-docs/stable/user_guide/indexing.html#returning-a-view-versus-a-copy\n",
      "  df2[\"Mean_Speed(m/m)\"] = df2['Distance'] / df2['Air_Time']\n",
      "C:\\Users\\dcuxa\\AppData\\Local\\Temp\\ipykernel_32632\\2382179659.py:5: SettingWithCopyWarning: \n",
      "A value is trying to be set on a copy of a slice from a DataFrame.\n",
      "Try using .loc[row_indexer,col_indexer] = value instead\n",
      "\n",
      "See the caveats in the documentation: https://pandas.pydata.org/pandas-docs/stable/user_guide/indexing.html#returning-a-view-versus-a-copy\n",
      "  df2['Delayed'] = df2['Arrival_Delay'].apply(lambda x:'Yes' if x > 0 else 'No')\n"
     ]
    },
    {
     "data": {
      "text/html": [
       "<div>\n",
       "<style scoped>\n",
       "    .dataframe tbody tr th:only-of-type {\n",
       "        vertical-align: middle;\n",
       "    }\n",
       "\n",
       "    .dataframe tbody tr th {\n",
       "        vertical-align: top;\n",
       "    }\n",
       "\n",
       "    .dataframe thead th {\n",
       "        text-align: right;\n",
       "    }\n",
       "</style>\n",
       "<table border=\"1\" class=\"dataframe\">\n",
       "  <thead>\n",
       "    <tr style=\"text-align: right;\">\n",
       "      <th></th>\n",
       "      <th>Flight_Number</th>\n",
       "      <th>Air_Time</th>\n",
       "      <th>Distance</th>\n",
       "      <th>Arrival_Delay</th>\n",
       "      <th>Departure_Delay</th>\n",
       "      <th>Mean_Speed(m/m)</th>\n",
       "      <th>Delayed</th>\n",
       "    </tr>\n",
       "  </thead>\n",
       "  <tbody>\n",
       "    <tr>\n",
       "      <th>0</th>\n",
       "      <td>2532</td>\n",
       "      <td>70.0</td>\n",
       "      <td>453</td>\n",
       "      <td>138.0</td>\n",
       "      <td>159.0</td>\n",
       "      <td>6.471429</td>\n",
       "      <td>Yes</td>\n",
       "    </tr>\n",
       "    <tr>\n",
       "      <th>1</th>\n",
       "      <td>7293</td>\n",
       "      <td>21.0</td>\n",
       "      <td>94</td>\n",
       "      <td>1.0</td>\n",
       "      <td>10.0</td>\n",
       "      <td>4.476190</td>\n",
       "      <td>Yes</td>\n",
       "    </tr>\n",
       "    <tr>\n",
       "      <th>2</th>\n",
       "      <td>1933</td>\n",
       "      <td>170.0</td>\n",
       "      <td>1345</td>\n",
       "      <td>8.0</td>\n",
       "      <td>11.0</td>\n",
       "      <td>7.911765</td>\n",
       "      <td>Yes</td>\n",
       "    </tr>\n",
       "    <tr>\n",
       "      <th>3</th>\n",
       "      <td>2431</td>\n",
       "      <td>183.0</td>\n",
       "      <td>1235</td>\n",
       "      <td>-4.0</td>\n",
       "      <td>10.0</td>\n",
       "      <td>6.748634</td>\n",
       "      <td>No</td>\n",
       "    </tr>\n",
       "    <tr>\n",
       "      <th>4</th>\n",
       "      <td>5862</td>\n",
       "      <td>96.0</td>\n",
       "      <td>668</td>\n",
       "      <td>84.0</td>\n",
       "      <td>57.0</td>\n",
       "      <td>6.958333</td>\n",
       "      <td>Yes</td>\n",
       "    </tr>\n",
       "  </tbody>\n",
       "</table>\n",
       "</div>"
      ],
      "text/plain": [
       "   Flight_Number  Air_Time  Distance  Arrival_Delay  Departure_Delay  \\\n",
       "0           2532      70.0       453          138.0            159.0   \n",
       "1           7293      21.0        94            1.0             10.0   \n",
       "2           1933     170.0      1345            8.0             11.0   \n",
       "3           2431     183.0      1235           -4.0             10.0   \n",
       "4           5862      96.0       668           84.0             57.0   \n",
       "\n",
       "   Mean_Speed(m/m) Delayed  \n",
       "0         6.471429     Yes  \n",
       "1         4.476190     Yes  \n",
       "2         7.911765     Yes  \n",
       "3         6.748634      No  \n",
       "4         6.958333     Yes  "
      ]
     },
     "execution_count": 1278,
     "metadata": {},
     "output_type": "execute_result"
    }
   ],
   "source": [
    "#------- EXERCICI 2 --- ACABAT\n",
    "### Crear columna velocidad mediana de los vuelos, si han llegado tarde o no...\n",
    "df2 = df[['Flight_Number', 'Air_Time', 'Distance', 'Arrival_Delay', 'Departure_Delay']]\n",
    "df2[\"Mean_Speed(m/m)\"] = df2['Distance'] / df2['Air_Time']\n",
    "df2['Delayed'] = df2['Arrival_Delay'].apply(lambda x:'Yes' if x > 0 else 'No')\n",
    "df2.head()"
   ]
  },
  {
   "cell_type": "code",
   "execution_count": 1279,
   "id": "a87f3b95",
   "metadata": {},
   "outputs": [
    {
     "data": {
      "text/html": [
       "<div>\n",
       "<style scoped>\n",
       "    .dataframe tbody tr th:only-of-type {\n",
       "        vertical-align: middle;\n",
       "    }\n",
       "\n",
       "    .dataframe tbody tr th {\n",
       "        vertical-align: top;\n",
       "    }\n",
       "\n",
       "    .dataframe thead th {\n",
       "        text-align: right;\n",
       "    }\n",
       "</style>\n",
       "<table border=\"1\" class=\"dataframe\">\n",
       "  <thead>\n",
       "    <tr style=\"text-align: right;\">\n",
       "      <th></th>\n",
       "      <th>Arrival_Delay</th>\n",
       "    </tr>\n",
       "    <tr>\n",
       "      <th>Carrier</th>\n",
       "      <th></th>\n",
       "    </tr>\n",
       "  </thead>\n",
       "  <tbody>\n",
       "    <tr>\n",
       "      <th>WN</th>\n",
       "      <td>1.174858e+06</td>\n",
       "    </tr>\n",
       "    <tr>\n",
       "      <th>AA</th>\n",
       "      <td>9.138043e+05</td>\n",
       "    </tr>\n",
       "    <tr>\n",
       "      <th>UA</th>\n",
       "      <td>7.106058e+05</td>\n",
       "    </tr>\n",
       "    <tr>\n",
       "      <th>MQ</th>\n",
       "      <td>6.656529e+05</td>\n",
       "    </tr>\n",
       "    <tr>\n",
       "      <th>OO</th>\n",
       "      <td>6.089595e+05</td>\n",
       "    </tr>\n",
       "    <tr>\n",
       "      <th>XE</th>\n",
       "      <td>5.482817e+05</td>\n",
       "    </tr>\n",
       "    <tr>\n",
       "      <th>DL</th>\n",
       "      <td>4.665184e+05</td>\n",
       "    </tr>\n",
       "    <tr>\n",
       "      <th>CO</th>\n",
       "      <td>4.319203e+05</td>\n",
       "    </tr>\n",
       "    <tr>\n",
       "      <th>EV</th>\n",
       "      <td>4.031474e+05</td>\n",
       "    </tr>\n",
       "    <tr>\n",
       "      <th>YV</th>\n",
       "      <td>3.792547e+05</td>\n",
       "    </tr>\n",
       "    <tr>\n",
       "      <th>US</th>\n",
       "      <td>3.754733e+05</td>\n",
       "    </tr>\n",
       "    <tr>\n",
       "      <th>NW</th>\n",
       "      <td>3.567171e+05</td>\n",
       "    </tr>\n",
       "    <tr>\n",
       "      <th>FL</th>\n",
       "      <td>3.212984e+05</td>\n",
       "    </tr>\n",
       "    <tr>\n",
       "      <th>B6</th>\n",
       "      <td>3.157128e+05</td>\n",
       "    </tr>\n",
       "    <tr>\n",
       "      <th>OH</th>\n",
       "      <td>2.845046e+05</td>\n",
       "    </tr>\n",
       "    <tr>\n",
       "      <th>9E</th>\n",
       "      <td>2.466514e+05</td>\n",
       "    </tr>\n",
       "    <tr>\n",
       "      <th>AS</th>\n",
       "      <td>1.385990e+05</td>\n",
       "    </tr>\n",
       "    <tr>\n",
       "      <th>F9</th>\n",
       "      <td>7.753267e+04</td>\n",
       "    </tr>\n",
       "    <tr>\n",
       "      <th>HA</th>\n",
       "      <td>2.669224e+04</td>\n",
       "    </tr>\n",
       "    <tr>\n",
       "      <th>AQ</th>\n",
       "      <td>1.506238e+03</td>\n",
       "    </tr>\n",
       "  </tbody>\n",
       "</table>\n",
       "</div>"
      ],
      "text/plain": [
       "         Arrival_Delay\n",
       "Carrier               \n",
       "WN        1.174858e+06\n",
       "AA        9.138043e+05\n",
       "UA        7.106058e+05\n",
       "MQ        6.656529e+05\n",
       "OO        6.089595e+05\n",
       "XE        5.482817e+05\n",
       "DL        4.665184e+05\n",
       "CO        4.319203e+05\n",
       "EV        4.031474e+05\n",
       "YV        3.792547e+05\n",
       "US        3.754733e+05\n",
       "NW        3.567171e+05\n",
       "FL        3.212984e+05\n",
       "B6        3.157128e+05\n",
       "OH        2.845046e+05\n",
       "9E        2.466514e+05\n",
       "AS        1.385990e+05\n",
       "F9        7.753267e+04\n",
       "HA        2.669224e+04\n",
       "AQ        1.506238e+03"
      ]
     },
     "execution_count": 1279,
     "metadata": {},
     "output_type": "execute_result"
    }
   ],
   "source": [
    "#------- EXERCICI 2 --- ACABAT\n",
    "### Fes una taula de les aerolínies amb més endarreriments acumulats.\n",
    "df3 = df[['Carrier', 'Arrival_Delay']]\n",
    "df3_UniqueCarrier_ArrDelay = df3.groupby('Carrier').aggregate(sum)\n",
    "df3_UniqueCarrier_ArrDelay.sort_values(by='Arrival_Delay', ascending=False)"
   ]
  },
  {
   "cell_type": "code",
   "execution_count": 1280,
   "id": "4b5c53c7",
   "metadata": {},
   "outputs": [
    {
     "data": {
      "text/html": [
       "<div>\n",
       "<style scoped>\n",
       "    .dataframe tbody tr th:only-of-type {\n",
       "        vertical-align: middle;\n",
       "    }\n",
       "\n",
       "    .dataframe tbody tr th {\n",
       "        vertical-align: top;\n",
       "    }\n",
       "\n",
       "    .dataframe thead th {\n",
       "        text-align: right;\n",
       "    }\n",
       "</style>\n",
       "<table border=\"1\" class=\"dataframe\">\n",
       "  <thead>\n",
       "    <tr style=\"text-align: right;\">\n",
       "      <th></th>\n",
       "      <th>Air_Time</th>\n",
       "    </tr>\n",
       "    <tr>\n",
       "      <th>Flight_Number</th>\n",
       "      <th></th>\n",
       "    </tr>\n",
       "  </thead>\n",
       "  <tbody>\n",
       "    <tr>\n",
       "      <th>15</th>\n",
       "      <td>645.0</td>\n",
       "    </tr>\n",
       "    <tr>\n",
       "      <th>192</th>\n",
       "      <td>595.0</td>\n",
       "    </tr>\n",
       "    <tr>\n",
       "      <th>851</th>\n",
       "      <td>589.0</td>\n",
       "    </tr>\n",
       "    <tr>\n",
       "      <th>14</th>\n",
       "      <td>583.0</td>\n",
       "    </tr>\n",
       "    <tr>\n",
       "      <th>1273</th>\n",
       "      <td>576.0</td>\n",
       "    </tr>\n",
       "  </tbody>\n",
       "</table>\n",
       "</div>"
      ],
      "text/plain": [
       "               Air_Time\n",
       "Flight_Number          \n",
       "15                645.0\n",
       "192               595.0\n",
       "851               589.0\n",
       "14                583.0\n",
       "1273              576.0"
      ]
     },
     "execution_count": 1280,
     "metadata": {},
     "output_type": "execute_result"
    }
   ],
   "source": [
    "#------- EXERCICI 2 --- ACABAT\n",
    "### ¿Cuáles son los vuelos más largos?\n",
    "df4 = df[['Flight_Number', 'Air_Time']]\n",
    "df4_more_airtime = df4.groupby('Flight_Number').aggregate('max')\n",
    "df4_more_airtime.sort_values(by='Air_Time', ascending=False)[:5]"
   ]
  },
  {
   "cell_type": "code",
   "execution_count": 1281,
   "id": "651b68eb",
   "metadata": {},
   "outputs": [
    {
     "data": {
      "text/html": [
       "<div>\n",
       "<style scoped>\n",
       "    .dataframe tbody tr th:only-of-type {\n",
       "        vertical-align: middle;\n",
       "    }\n",
       "\n",
       "    .dataframe tbody tr th {\n",
       "        vertical-align: top;\n",
       "    }\n",
       "\n",
       "    .dataframe thead th {\n",
       "        text-align: right;\n",
       "    }\n",
       "</style>\n",
       "<table border=\"1\" class=\"dataframe\">\n",
       "  <thead>\n",
       "    <tr style=\"text-align: right;\">\n",
       "      <th></th>\n",
       "      <th>Arrival_Delay</th>\n",
       "    </tr>\n",
       "    <tr>\n",
       "      <th>Flight_Number</th>\n",
       "      <th></th>\n",
       "    </tr>\n",
       "  </thead>\n",
       "  <tbody>\n",
       "    <tr>\n",
       "      <th>1472</th>\n",
       "      <td>1542.0</td>\n",
       "    </tr>\n",
       "    <tr>\n",
       "      <th>1743</th>\n",
       "      <td>1490.0</td>\n",
       "    </tr>\n",
       "    <tr>\n",
       "      <th>1196</th>\n",
       "      <td>1395.0</td>\n",
       "    </tr>\n",
       "    <tr>\n",
       "      <th>394</th>\n",
       "      <td>1346.0</td>\n",
       "    </tr>\n",
       "    <tr>\n",
       "      <th>175</th>\n",
       "      <td>1170.0</td>\n",
       "    </tr>\n",
       "  </tbody>\n",
       "</table>\n",
       "</div>"
      ],
      "text/plain": [
       "               Arrival_Delay\n",
       "Flight_Number               \n",
       "1472                  1542.0\n",
       "1743                  1490.0\n",
       "1196                  1395.0\n",
       "394                   1346.0\n",
       "175                   1170.0"
      ]
     },
     "execution_count": 1281,
     "metadata": {},
     "output_type": "execute_result"
    }
   ],
   "source": [
    "#------- EXERCICI 2 --- ACABAT\n",
    "### I els més endarrerits?\n",
    "df5 = df[['Flight_Number', 'Arrival_Delay']]\n",
    "df5_more_delayed = df5.groupby('Flight_Number').aggregate('max')\n",
    "df5_more_delayed.sort_values(by='Arrival_Delay', ascending=False)[:5]"
   ]
  },
  {
   "cell_type": "code",
   "execution_count": 1283,
   "id": "0bc21e03",
   "metadata": {},
   "outputs": [
    {
     "data": {
      "text/html": [
       "<div>\n",
       "<style scoped>\n",
       "    .dataframe tbody tr th:only-of-type {\n",
       "        vertical-align: middle;\n",
       "    }\n",
       "\n",
       "    .dataframe tbody tr th {\n",
       "        vertical-align: top;\n",
       "    }\n",
       "\n",
       "    .dataframe thead th {\n",
       "        text-align: right;\n",
       "    }\n",
       "</style>\n",
       "<table border=\"1\" class=\"dataframe\">\n",
       "  <thead>\n",
       "    <tr style=\"text-align: right;\">\n",
       "      <th></th>\n",
       "      <th></th>\n",
       "      <th>Distance</th>\n",
       "    </tr>\n",
       "    <tr>\n",
       "      <th>Origin</th>\n",
       "      <th>Destination</th>\n",
       "      <th></th>\n",
       "    </tr>\n",
       "  </thead>\n",
       "  <tbody>\n",
       "    <tr>\n",
       "      <th>EWR</th>\n",
       "      <th>HNL</th>\n",
       "      <td>4962</td>\n",
       "    </tr>\n",
       "    <tr>\n",
       "      <th>HNL</th>\n",
       "      <th>EWR</th>\n",
       "      <td>4962</td>\n",
       "    </tr>\n",
       "    <tr>\n",
       "      <th>ATL</th>\n",
       "      <th>HNL</th>\n",
       "      <td>4502</td>\n",
       "    </tr>\n",
       "    <tr>\n",
       "      <th rowspan=\"2\" valign=\"top\">HNL</th>\n",
       "      <th>ATL</th>\n",
       "      <td>4502</td>\n",
       "    </tr>\n",
       "    <tr>\n",
       "      <th>ORD</th>\n",
       "      <td>4243</td>\n",
       "    </tr>\n",
       "  </tbody>\n",
       "</table>\n",
       "</div>"
      ],
      "text/plain": [
       "                    Distance\n",
       "Origin Destination          \n",
       "EWR    HNL              4962\n",
       "HNL    EWR              4962\n",
       "ATL    HNL              4502\n",
       "HNL    ATL              4502\n",
       "       ORD              4243"
      ]
     },
     "execution_count": 1283,
     "metadata": {},
     "output_type": "execute_result"
    }
   ],
   "source": [
    "#------- EXERCICI 2 --- ACABAT\n",
    "### Busca les rutes mes llarges.\n",
    "df6 = df[['Distance', 'Origin', 'Destination']]\n",
    "df6_longest_routes = df6.groupby(['Origin', 'Destination']).aggregate('max')\n",
    "df6_longest_routes.sort_values(by=['Distance'], ascending=False)[:5]"
   ]
  },
  {
   "cell_type": "code",
   "execution_count": 1289,
   "id": "7c0b5561",
   "metadata": {},
   "outputs": [
    {
     "data": {
      "text/html": [
       "<div>\n",
       "<style scoped>\n",
       "    .dataframe tbody tr th:only-of-type {\n",
       "        vertical-align: middle;\n",
       "    }\n",
       "\n",
       "    .dataframe tbody tr th {\n",
       "        vertical-align: top;\n",
       "    }\n",
       "\n",
       "    .dataframe thead th {\n",
       "        text-align: right;\n",
       "    }\n",
       "</style>\n",
       "<table border=\"1\" class=\"dataframe\">\n",
       "  <thead>\n",
       "    <tr style=\"text-align: right;\">\n",
       "      <th></th>\n",
       "      <th>Origin</th>\n",
       "      <th>Destination</th>\n",
       "    </tr>\n",
       "    <tr>\n",
       "      <th>Arrival_Delay</th>\n",
       "      <th></th>\n",
       "      <th></th>\n",
       "    </tr>\n",
       "  </thead>\n",
       "  <tbody>\n",
       "    <tr>\n",
       "      <th>1542.0</th>\n",
       "      <td>MOT</td>\n",
       "      <td>MSP</td>\n",
       "    </tr>\n",
       "    <tr>\n",
       "      <th>1490.0</th>\n",
       "      <td>BNA</td>\n",
       "      <td>MEM</td>\n",
       "    </tr>\n",
       "    <tr>\n",
       "      <th>1395.0</th>\n",
       "      <td>LAS</td>\n",
       "      <td>DTW</td>\n",
       "    </tr>\n",
       "    <tr>\n",
       "      <th>1346.0</th>\n",
       "      <td>SMF</td>\n",
       "      <td>MSP</td>\n",
       "    </tr>\n",
       "    <tr>\n",
       "      <th>1170.0</th>\n",
       "      <td>LAS</td>\n",
       "      <td>MEM</td>\n",
       "    </tr>\n",
       "    <tr>\n",
       "      <th>...</th>\n",
       "      <td>...</td>\n",
       "      <td>...</td>\n",
       "    </tr>\n",
       "    <tr>\n",
       "      <th>9.0</th>\n",
       "      <td>YUM</td>\n",
       "      <td>YUM</td>\n",
       "    </tr>\n",
       "    <tr>\n",
       "      <th>8.0</th>\n",
       "      <td>YUM</td>\n",
       "      <td>YUM</td>\n",
       "    </tr>\n",
       "    <tr>\n",
       "      <th>7.0</th>\n",
       "      <td>YUM</td>\n",
       "      <td>YUM</td>\n",
       "    </tr>\n",
       "    <tr>\n",
       "      <th>6.0</th>\n",
       "      <td>YUM</td>\n",
       "      <td>YUM</td>\n",
       "    </tr>\n",
       "    <tr>\n",
       "      <th>5.0</th>\n",
       "      <td>YUM</td>\n",
       "      <td>YAK</td>\n",
       "    </tr>\n",
       "  </tbody>\n",
       "</table>\n",
       "<p>598 rows × 2 columns</p>\n",
       "</div>"
      ],
      "text/plain": [
       "              Origin Destination\n",
       "Arrival_Delay                   \n",
       "1542.0           MOT         MSP\n",
       "1490.0           BNA         MEM\n",
       "1395.0           LAS         DTW\n",
       "1346.0           SMF         MSP\n",
       "1170.0           LAS         MEM\n",
       "...              ...         ...\n",
       "9.0              YUM         YUM\n",
       "8.0              YUM         YUM\n",
       "7.0              YUM         YUM\n",
       "6.0              YUM         YUM\n",
       "5.0              YUM         YAK\n",
       "\n",
       "[598 rows x 2 columns]"
      ]
     },
     "execution_count": 1289,
     "metadata": {},
     "output_type": "execute_result"
    }
   ],
   "source": [
    "#------- EXERCICI 2 --- ACABAT\n",
    "### ... y las rutas que acumulan más retrasos.\n",
    "df7 = df[['Arrival_Delay', 'Origin', 'Destination']]\n",
    "df7_more_delayed_routes = df7.groupby('Arrival_Delay').aggregate('max')\n",
    "df7_more_delayed_routes.sort_values(by=['Arrival_Delay'], ascending=False)[:5]"
   ]
  },
  {
   "cell_type": "code",
   "execution_count": 1292,
   "id": "a23c4505",
   "metadata": {
    "scrolled": true
   },
   "outputs": [
    {
     "data": {
      "text/html": [
       "<div>\n",
       "<style scoped>\n",
       "    .dataframe tbody tr th:only-of-type {\n",
       "        vertical-align: middle;\n",
       "    }\n",
       "\n",
       "    .dataframe tbody tr th {\n",
       "        vertical-align: top;\n",
       "    }\n",
       "\n",
       "    .dataframe thead th {\n",
       "        text-align: right;\n",
       "    }\n",
       "</style>\n",
       "<table border=\"1\" class=\"dataframe\">\n",
       "  <thead>\n",
       "    <tr style=\"text-align: right;\">\n",
       "      <th></th>\n",
       "      <th>Arrival_Delay</th>\n",
       "      <th>Departure_Delay</th>\n",
       "      <th>Air_Time</th>\n",
       "    </tr>\n",
       "    <tr>\n",
       "      <th>Tail_Number</th>\n",
       "      <th></th>\n",
       "      <th></th>\n",
       "      <th></th>\n",
       "    </tr>\n",
       "  </thead>\n",
       "  <tbody>\n",
       "    <tr>\n",
       "      <th>N592ML</th>\n",
       "      <td>7788.0</td>\n",
       "      <td>7637.0</td>\n",
       "      <td>4939.0</td>\n",
       "    </tr>\n",
       "    <tr>\n",
       "      <th>N506MJ</th>\n",
       "      <td>7163.0</td>\n",
       "      <td>7073.0</td>\n",
       "      <td>6896.0</td>\n",
       "    </tr>\n",
       "    <tr>\n",
       "      <th>N154SF</th>\n",
       "      <td>6819.0</td>\n",
       "      <td>6552.0</td>\n",
       "      <td>5081.0</td>\n",
       "    </tr>\n",
       "    <tr>\n",
       "      <th>N650ML</th>\n",
       "      <td>6548.0</td>\n",
       "      <td>6220.0</td>\n",
       "      <td>4449.0</td>\n",
       "    </tr>\n",
       "    <tr>\n",
       "      <th>N37208</th>\n",
       "      <td>6433.0</td>\n",
       "      <td>6296.0</td>\n",
       "      <td>5739.0</td>\n",
       "    </tr>\n",
       "  </tbody>\n",
       "</table>\n",
       "</div>"
      ],
      "text/plain": [
       "             Arrival_Delay  Departure_Delay  Air_Time\n",
       "Tail_Number                                          \n",
       "N592ML              7788.0           7637.0    4939.0\n",
       "N506MJ              7163.0           7073.0    6896.0\n",
       "N154SF              6819.0           6552.0    5081.0\n",
       "N650ML              6548.0           6220.0    4449.0\n",
       "N37208              6433.0           6296.0    5739.0"
      ]
     },
     "execution_count": 1292,
     "metadata": {},
     "output_type": "execute_result"
    }
   ],
   "source": [
    "#------- EXERCICI 2 --- ACABAT\n",
    "### Aporta aquello que consideres relevante.\n",
    "df8 = df[['Tail_Number', 'Arrival_Delay', 'Departure_Delay', 'Air_Time']]\n",
    "df8_planes_more_delayed = df8.groupby('Tail_Number').aggregate(sum)\n",
    "df8_planes_more_delayed.sort_values(by='Arrival_Delay', ascending=False)[:5]"
   ]
  },
  {
   "cell_type": "markdown",
   "id": "faa8d373",
   "metadata": {},
   "source": [
    "En esta última consulta quería ver si había algún tipo de relación entre el avión que realiza el vuelo (Tail_Number), el retraso total y el número de vuelos realizado, sin embargo, no he logrado asociar estas tres columnas."
   ]
  },
  {
   "cell_type": "code",
   "execution_count": 1299,
   "id": "60ca9e7b",
   "metadata": {
    "scrolled": true
   },
   "outputs": [
    {
     "data": {
      "text/plain": [
       "N676SW    109\n",
       "N370SW    109\n",
       "N506SW    108\n",
       "N634SW    105\n",
       "N758EV    102\n",
       "         ... \n",
       "N545US      1\n",
       "N979AS      1\n",
       "N1613B      1\n",
       "N736MQ      1\n",
       "N7BEAA      1\n",
       "Name: Tail_Number, Length: 5266, dtype: int64"
      ]
     },
     "execution_count": 1299,
     "metadata": {},
     "output_type": "execute_result"
    }
   ],
   "source": [
    "#df.query(\"Tail_Number == 'N592ML'\")\n",
    "df['Tail_Number'].value_counts()"
   ]
  },
  {
   "cell_type": "code",
   "execution_count": 1287,
   "id": "8e4f8285",
   "metadata": {},
   "outputs": [],
   "source": [
    "#------- EXERCICI 3 --- ACABAT\n",
    "\n",
    "#df.to_excel('Sprint_03_Tasca_02.xlsx', sheet_name='Sheet1')"
   ]
  }
 ],
 "metadata": {
  "kernelspec": {
   "display_name": "Python 3 (ipykernel)",
   "language": "python",
   "name": "python3"
  },
  "language_info": {
   "codemirror_mode": {
    "name": "ipython",
    "version": 3
   },
   "file_extension": ".py",
   "mimetype": "text/x-python",
   "name": "python",
   "nbconvert_exporter": "python",
   "pygments_lexer": "ipython3",
   "version": "3.10.9"
  }
 },
 "nbformat": 4,
 "nbformat_minor": 5
}
