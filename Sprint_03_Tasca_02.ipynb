{
 "cells": [
  {
   "cell_type": "code",
   "execution_count": 1073,
   "id": "4e05e346",
   "metadata": {},
   "outputs": [],
   "source": [
    "#------- EXERCICI 1 --- ACABAT\n",
    "import pandas as pd\n",
    "\n",
    "data = pd.read_csv('DelayedFlights.csv')\n",
    "\n",
    "df = data.sample(n=200000, replace=False)\n",
    "\n",
    "df = df[[\n",
    "    #'Unnamed: 0', 'Year', 'Month', 'DayofMonth',\n",
    "    'DayOfWeek',\n",
    "    #'DepTime',\n",
    "    #'CRSDepTime', 'ArrTime', 'CRSArrTime',\n",
    "    'UniqueCarrier', 'FlightNum', 'TailNum', 'ActualElapsedTime',\n",
    "    #'CRSElapsedTime',\n",
    "    'AirTime', 'ArrDelay', 'DepDelay', 'Origin', 'Dest', 'Distance', \n",
    "    #'TaxiIn', 'TaxiOut', 'Cancelled', 'CancellationCode', 'Diverted', 'CarrierDelay',\n",
    "    #'WeatherDelay', 'NASDelay', 'SecurityDelay',\n",
    "    #'LateAircraftDelay'\n",
    "    ]].copy()"
   ]
  },
  {
   "cell_type": "markdown",
   "id": "4abfb08a",
   "metadata": {},
   "source": [
    "En este dataset podemos encontrar información sobre los vuelos de 20 aerolíneas comerciales en los Estados Unidos en 2008. Ésta muestra del dataset contiene 30 columnas con datos sobre 200.000 vuelos tanto antes de realizarse, así como tras la finalización de los mismos. De esta manera, por ejemplo, podemos obtener información sobre retrasos, desviaciones o cancelaciones y sus causas.\n",
    "\n",
    "Puesto que no sabría extraer información de ello, podría eliminar las dos columnas que hacen referencia a la bajada y la subida del tren de aterrizaje (TaxiIn y TaxiOut).\n",
    "\n",
    "Por otro lado, tambien puedo eliminar todas las columnas que se refieren a los retrasos y las cancelaciones según la causa, así como las columnas sobre la fecha como \"Year\", \"Month\" o \"DayOfMonth\", como también aquellas relacionadas con la programación original del vuelo como \"CRSDepTime\" o \"CRSElapsedTime\", ya que tampoco haré uso de estas columnas para los ejercicios que siguen.\n",
    "\n",
    "Finalmente, modifico el nombre de las columnas para facilitar la lectura y vuelvo a indexar los registros para darles un valor entre 0 y 200.000 acorde con la totalidad de la muestra y no con la base de datos original."
   ]
  },
  {
   "cell_type": "code",
   "execution_count": 1074,
   "id": "d4fc4a6b",
   "metadata": {},
   "outputs": [],
   "source": [
    "df = df.rename(columns = {'DayOfWeek':'Day_Of_Week',\n",
    "                          'UniqueCarrier':'Carrier',\n",
    "                          'FlightNum':'Flight_Number',\n",
    "                          'TailNum':'Tail_Number',\n",
    "                          'ActualElapsedTime':'Actual_Elapsed_Time',\n",
    "                          'AirTime':'Air_Time',\n",
    "                          'ArrDelay':'Arrival_Delay',\n",
    "                          'DepDelay':'Departure_Delay',\n",
    "                          'Dest':'Destination'}) \\\n",
    "    .reset_index(drop=True)"
   ]
  },
  {
   "cell_type": "code",
   "execution_count": 1075,
   "id": "ee46b490",
   "metadata": {},
   "outputs": [
    {
     "data": {
      "text/html": [
       "<div>\n",
       "<style scoped>\n",
       "    .dataframe tbody tr th:only-of-type {\n",
       "        vertical-align: middle;\n",
       "    }\n",
       "\n",
       "    .dataframe tbody tr th {\n",
       "        vertical-align: top;\n",
       "    }\n",
       "\n",
       "    .dataframe thead th {\n",
       "        text-align: right;\n",
       "    }\n",
       "</style>\n",
       "<table border=\"1\" class=\"dataframe\">\n",
       "  <thead>\n",
       "    <tr style=\"text-align: right;\">\n",
       "      <th></th>\n",
       "      <th>Day_Of_Week</th>\n",
       "      <th>Flight_Number</th>\n",
       "      <th>Actual_Elapsed_Time</th>\n",
       "      <th>Air_Time</th>\n",
       "      <th>Arrival_Delay</th>\n",
       "      <th>Departure_Delay</th>\n",
       "      <th>Distance</th>\n",
       "    </tr>\n",
       "  </thead>\n",
       "  <tbody>\n",
       "    <tr>\n",
       "      <th>count</th>\n",
       "      <td>200000.000000</td>\n",
       "      <td>200000.000000</td>\n",
       "      <td>199146.000000</td>\n",
       "      <td>199146.000000</td>\n",
       "      <td>199146.000000</td>\n",
       "      <td>200000.000000</td>\n",
       "      <td>200000.000000</td>\n",
       "    </tr>\n",
       "    <tr>\n",
       "      <th>mean</th>\n",
       "      <td>3.987535</td>\n",
       "      <td>2191.112345</td>\n",
       "      <td>132.911477</td>\n",
       "      <td>107.936604</td>\n",
       "      <td>42.082050</td>\n",
       "      <td>43.077990</td>\n",
       "      <td>762.970695</td>\n",
       "    </tr>\n",
       "    <tr>\n",
       "      <th>std</th>\n",
       "      <td>1.997861</td>\n",
       "      <td>1944.298058</td>\n",
       "      <td>71.599317</td>\n",
       "      <td>68.219534</td>\n",
       "      <td>56.240352</td>\n",
       "      <td>52.926626</td>\n",
       "      <td>570.839881</td>\n",
       "    </tr>\n",
       "    <tr>\n",
       "      <th>min</th>\n",
       "      <td>1.000000</td>\n",
       "      <td>1.000000</td>\n",
       "      <td>17.000000</td>\n",
       "      <td>1.000000</td>\n",
       "      <td>-70.000000</td>\n",
       "      <td>6.000000</td>\n",
       "      <td>30.000000</td>\n",
       "    </tr>\n",
       "    <tr>\n",
       "      <th>25%</th>\n",
       "      <td>2.000000</td>\n",
       "      <td>617.000000</td>\n",
       "      <td>80.000000</td>\n",
       "      <td>58.000000</td>\n",
       "      <td>9.000000</td>\n",
       "      <td>12.000000</td>\n",
       "      <td>338.000000</td>\n",
       "    </tr>\n",
       "    <tr>\n",
       "      <th>50%</th>\n",
       "      <td>4.000000</td>\n",
       "      <td>1550.000000</td>\n",
       "      <td>116.000000</td>\n",
       "      <td>90.000000</td>\n",
       "      <td>24.000000</td>\n",
       "      <td>24.000000</td>\n",
       "      <td>606.000000</td>\n",
       "    </tr>\n",
       "    <tr>\n",
       "      <th>75%</th>\n",
       "      <td>6.000000</td>\n",
       "      <td>3431.000000</td>\n",
       "      <td>164.000000</td>\n",
       "      <td>137.000000</td>\n",
       "      <td>56.000000</td>\n",
       "      <td>53.000000</td>\n",
       "      <td>993.000000</td>\n",
       "    </tr>\n",
       "    <tr>\n",
       "      <th>max</th>\n",
       "      <td>7.000000</td>\n",
       "      <td>9741.000000</td>\n",
       "      <td>682.000000</td>\n",
       "      <td>630.000000</td>\n",
       "      <td>1267.000000</td>\n",
       "      <td>1268.000000</td>\n",
       "      <td>4962.000000</td>\n",
       "    </tr>\n",
       "  </tbody>\n",
       "</table>\n",
       "</div>"
      ],
      "text/plain": [
       "         Day_Of_Week  Flight_Number  Actual_Elapsed_Time       Air_Time  \\\n",
       "count  200000.000000  200000.000000        199146.000000  199146.000000   \n",
       "mean        3.987535    2191.112345           132.911477     107.936604   \n",
       "std         1.997861    1944.298058            71.599317      68.219534   \n",
       "min         1.000000       1.000000            17.000000       1.000000   \n",
       "25%         2.000000     617.000000            80.000000      58.000000   \n",
       "50%         4.000000    1550.000000           116.000000      90.000000   \n",
       "75%         6.000000    3431.000000           164.000000     137.000000   \n",
       "max         7.000000    9741.000000           682.000000     630.000000   \n",
       "\n",
       "       Arrival_Delay  Departure_Delay       Distance  \n",
       "count  199146.000000    200000.000000  200000.000000  \n",
       "mean       42.082050        43.077990     762.970695  \n",
       "std        56.240352        52.926626     570.839881  \n",
       "min       -70.000000         6.000000      30.000000  \n",
       "25%         9.000000        12.000000     338.000000  \n",
       "50%        24.000000        24.000000     606.000000  \n",
       "75%        56.000000        53.000000     993.000000  \n",
       "max      1267.000000      1268.000000    4962.000000  "
      ]
     },
     "execution_count": 1075,
     "metadata": {},
     "output_type": "execute_result"
    }
   ],
   "source": [
    "df.describe()"
   ]
  },
  {
   "cell_type": "markdown",
   "id": "4e6d366a",
   "metadata": {},
   "source": [
    "Al ejecutar la función describe() podemos ver que faltan algunos datos en al menos 3 columnas, por lo que tendremos que volver a ellas más adelante.\n",
    "\n",
    "Por otro lado, también podemos observar que el valor mínimo de la columna 'Arrival_Delay' es negativo. Esto es normal, ya que en esta misma columna se expresa mediante un valor negativo cuando el vuelo llega antes de lo programado.\n",
    "\n",
    "Sin embargo, el valor máximo de la misma columna de 'Arrival_Delay' parece demasiado elevado en comparación con el 75% más bajo, que a penas llega a la hora de retraso, así que acto seguido miraremos si sigue una progresión normal.\n",
    "\n",
    "Finalmente, también podemos observar que el valor mínimo de la columna 'Distance' parece muy bajo para un trayecto en avión, por lo que podría ser un error a primera vista, sin emabrgo al ver la cantidad de vuelos por distancia vemos que es normal que haya trayectos así de cortos."
   ]
  },
  {
   "cell_type": "code",
   "execution_count": 1076,
   "id": "43158a10",
   "metadata": {
    "scrolled": true
   },
   "outputs": [
    {
     "data": {
      "text/plain": [
       "<Axes: ylabel='Frequency'>"
      ]
     },
     "execution_count": 1076,
     "metadata": {},
     "output_type": "execute_result"
    },
    {
     "data": {
      "image/png": "[encoded data removed]",
      "text/plain": [
       "<Figure size 640x480 with 1 Axes>"
      ]
     },
     "metadata": {},
     "output_type": "display_data"
    }
   ],
   "source": [
    "df['Distance'].plot(kind='hist', bins=100)\n",
    "#df0 = df[['Distance', 'Origin', 'Destination']]\n",
    "#df0.groupby('Distance')\n",
    "#df0.sort_values(by='Distance', ascending=True)[:5]"
   ]
  },
  {
   "cell_type": "markdown",
   "id": "262cfb64",
   "metadata": {},
   "source": [
    "De vuelta al valor máximo de la misma columna de 'Arrival_Delay', al consultar en un histograma la distribución de los registros según el tiempo de retraso, podemos observar que parece disminuir de manera normal y que sean pocos los vuelos que acumulan mucho retraso."
   ]
  },
  {
   "cell_type": "code",
   "execution_count": 1077,
   "id": "971d8f68",
   "metadata": {},
   "outputs": [
    {
     "data": {
      "text/plain": [
       "<Axes: ylabel='Frequency'>"
      ]
     },
     "execution_count": 1077,
     "metadata": {},
     "output_type": "execute_result"
    },
    {
     "data": {
      "image/png": "[encoded data removed]",
      "text/plain": [
       "<Figure size 640x480 with 1 Axes>"
      ]
     },
     "metadata": {},
     "output_type": "display_data"
    }
   ],
   "source": [
    "df['Arrival_Delay'].plot(kind='hist', bins=300)"
   ]
  },
  {
   "cell_type": "code",
   "execution_count": 1078,
   "id": "944bf17d",
   "metadata": {},
   "outputs": [
    {
     "data": {
      "text/plain": [
       "Day_Of_Week              int64\n",
       "Carrier                 object\n",
       "Flight_Number            int64\n",
       "Tail_Number             object\n",
       "Actual_Elapsed_Time    float64\n",
       "Air_Time               float64\n",
       "Arrival_Delay          float64\n",
       "Departure_Delay        float64\n",
       "Origin                  object\n",
       "Destination             object\n",
       "Distance                 int64\n",
       "dtype: object"
      ]
     },
     "execution_count": 1078,
     "metadata": {},
     "output_type": "execute_result"
    }
   ],
   "source": [
    "df.dtypes"
   ]
  },
  {
   "cell_type": "markdown",
   "id": "2213ad52",
   "metadata": {},
   "source": [
    "Por último vemos que el tipo de dato tiene sentido con lo que representan, así que los dejaremos sin modificar."
   ]
  },
  {
   "cell_type": "code",
   "execution_count": 1079,
   "id": "1a994284",
   "metadata": {},
   "outputs": [
    {
     "data": {
      "text/plain": [
       "682.0"
      ]
     },
     "execution_count": 1079,
     "metadata": {},
     "output_type": "execute_result"
    }
   ],
   "source": [
    "df['Actual_Elapsed_Time'].max()"
   ]
  },
  {
   "cell_type": "code",
   "execution_count": 1080,
   "id": "592d9749",
   "metadata": {},
   "outputs": [
    {
     "data": {
      "text/plain": [
       "0         False\n",
       "1         False\n",
       "2         False\n",
       "3         False\n",
       "4         False\n",
       "          ...  \n",
       "199995    False\n",
       "199996    False\n",
       "199997    False\n",
       "199998    False\n",
       "199999    False\n",
       "Length: 200000, dtype: bool"
      ]
     },
     "execution_count": 1080,
     "metadata": {},
     "output_type": "execute_result"
    }
   ],
   "source": [
    "df.duplicated()"
   ]
  },
  {
   "cell_type": "code",
   "execution_count": 1081,
   "id": "df3e78c6",
   "metadata": {},
   "outputs": [
    {
     "name": "stdout",
     "output_type": "stream",
     "text": [
      "Los registros que faltan por columna son:\n"
     ]
    },
    {
     "data": {
      "text/plain": [
       "Day_Of_Week              0\n",
       "Carrier                  0\n",
       "Flight_Number            0\n",
       "Tail_Number              1\n",
       "Actual_Elapsed_Time    854\n",
       "Air_Time               854\n",
       "Arrival_Delay          854\n",
       "Departure_Delay          0\n",
       "Origin                   0\n",
       "Destination              0\n",
       "Distance                 0\n",
       "dtype: int64"
      ]
     },
     "execution_count": 1081,
     "metadata": {},
     "output_type": "execute_result"
    }
   ],
   "source": [
    "#------- EXERCICI 2 --- ACABAT\n",
    "### Troba quantes dades faltants hi ha per columna.\n",
    "print('Los registros que faltan por columna son:')\n",
    "pd.isnull(df).sum()"
   ]
  },
  {
   "cell_type": "code",
   "execution_count": 1082,
   "id": "d1054582",
   "metadata": {
    "scrolled": true
   },
   "outputs": [
    {
     "name": "stdout",
     "output_type": "stream",
     "text": [
      "Day_Of_Week            0\n",
      "Carrier                0\n",
      "Flight_Number          0\n",
      "Tail_Number            1\n",
      "Actual_Elapsed_Time    0\n",
      "Air_Time               0\n",
      "Arrival_Delay          0\n",
      "Departure_Delay        0\n",
      "Origin                 0\n",
      "Destination            0\n",
      "Distance               0\n",
      "dtype: int64\n"
     ]
    }
   ],
   "source": [
    "#------- EXERCICI 2 --- ACABAT\n",
    "### Depuración: Rellenar Na con la media.\n",
    "df[['Actual_Elapsed_Time', 'Air_Time', 'Arrival_Delay']] = df[['Actual_Elapsed_Time', 'Air_Time', 'Arrival_Delay']].fillna(df[['Actual_Elapsed_Time', 'Air_Time', 'Arrival_Delay']].mean())\n",
    "\n",
    "#df['Arrival_Delay'].mean()\n",
    "\n",
    "print(df.isna().sum())"
   ]
  },
  {
   "cell_type": "code",
   "execution_count": 1083,
   "id": "e3e6aee5",
   "metadata": {},
   "outputs": [
    {
     "data": {
      "text/html": [
       "<div>\n",
       "<style scoped>\n",
       "    .dataframe tbody tr th:only-of-type {\n",
       "        vertical-align: middle;\n",
       "    }\n",
       "\n",
       "    .dataframe tbody tr th {\n",
       "        vertical-align: top;\n",
       "    }\n",
       "\n",
       "    .dataframe thead th {\n",
       "        text-align: right;\n",
       "    }\n",
       "</style>\n",
       "<table border=\"1\" class=\"dataframe\">\n",
       "  <thead>\n",
       "    <tr style=\"text-align: right;\">\n",
       "      <th></th>\n",
       "      <th>Arrival_Delay</th>\n",
       "    </tr>\n",
       "    <tr>\n",
       "      <th>Day_Of_Week</th>\n",
       "      <th></th>\n",
       "    </tr>\n",
       "  </thead>\n",
       "  <tbody>\n",
       "    <tr>\n",
       "      <th>5</th>\n",
       "      <td>1.450067e+06</td>\n",
       "    </tr>\n",
       "    <tr>\n",
       "      <th>7</th>\n",
       "      <td>1.334161e+06</td>\n",
       "    </tr>\n",
       "    <tr>\n",
       "      <th>1</th>\n",
       "      <td>1.256710e+06</td>\n",
       "    </tr>\n",
       "    <tr>\n",
       "      <th>4</th>\n",
       "      <td>1.210945e+06</td>\n",
       "    </tr>\n",
       "    <tr>\n",
       "      <th>2</th>\n",
       "      <td>1.190372e+06</td>\n",
       "    </tr>\n",
       "    <tr>\n",
       "      <th>3</th>\n",
       "      <td>1.080254e+06</td>\n",
       "    </tr>\n",
       "    <tr>\n",
       "      <th>6</th>\n",
       "      <td>8.939002e+05</td>\n",
       "    </tr>\n",
       "  </tbody>\n",
       "</table>\n",
       "</div>"
      ],
      "text/plain": [
       "             Arrival_Delay\n",
       "Day_Of_Week               \n",
       "5             1.450067e+06\n",
       "7             1.334161e+06\n",
       "1             1.256710e+06\n",
       "4             1.210945e+06\n",
       "2             1.190372e+06\n",
       "3             1.080254e+06\n",
       "6             8.939002e+05"
      ]
     },
     "execution_count": 1083,
     "metadata": {},
     "output_type": "execute_result"
    }
   ],
   "source": [
    "#------- EXERCICI 2 --- ACABAT\n",
    "### Haz un análisis estadístico que consideres relevante.\n",
    "df1 = df[['Day_Of_Week', 'Arrival_Delay']]\n",
    "df1_DayOfWeek_Delay = df1.groupby('Day_Of_Week').aggregate(sum)\n",
    "df1_DayOfWeek_Delay.sort_values(by='Arrival_Delay', ascending=False)"
   ]
  },
  {
   "cell_type": "markdown",
   "id": "5b0170f8",
   "metadata": {},
   "source": [
    "En esta nuevo data frame podemos ver que el mayor número de retrasos suceden los viernes (5) y los domingos (7) posiblemente debido a las idas y las vueltas del fin de semana, y que por la misma razón que el menor número de retrasos se dan en sábado (6)."
   ]
  },
  {
   "cell_type": "code",
   "execution_count": null,
   "id": "e572ab07",
   "metadata": {},
   "outputs": [],
   "source": []
  },
  {
   "cell_type": "code",
   "execution_count": 1084,
   "id": "97a95e7a",
   "metadata": {
    "scrolled": false
   },
   "outputs": [
    {
     "name": "stderr",
     "output_type": "stream",
     "text": [
      "C:\\Users\\dcuxa\\AppData\\Local\\Temp\\ipykernel_32632\\2765428861.py:3: SettingWithCopyWarning: \n",
      "A value is trying to be set on a copy of a slice from a DataFrame.\n",
      "Try using .loc[row_indexer,col_indexer] = value instead\n",
      "\n",
      "See the caveats in the documentation: https://pandas.pydata.org/pandas-docs/stable/user_guide/indexing.html#returning-a-view-versus-a-copy\n",
      "  df2[\"Mean_Speed(m/m)\"] = df2['Distance'] / df2['Air_Time']\n",
      "C:\\Users\\dcuxa\\AppData\\Local\\Temp\\ipykernel_32632\\2765428861.py:4: SettingWithCopyWarning: \n",
      "A value is trying to be set on a copy of a slice from a DataFrame.\n",
      "Try using .loc[row_indexer,col_indexer] = value instead\n",
      "\n",
      "See the caveats in the documentation: https://pandas.pydata.org/pandas-docs/stable/user_guide/indexing.html#returning-a-view-versus-a-copy\n",
      "  df2['Delayed'] = df2['Arrival_Delay'].apply(lambda x:'Yes' if x > 0 else 'No')\n"
     ]
    },
    {
     "data": {
      "text/html": [
       "<div>\n",
       "<style scoped>\n",
       "    .dataframe tbody tr th:only-of-type {\n",
       "        vertical-align: middle;\n",
       "    }\n",
       "\n",
       "    .dataframe tbody tr th {\n",
       "        vertical-align: top;\n",
       "    }\n",
       "\n",
       "    .dataframe thead th {\n",
       "        text-align: right;\n",
       "    }\n",
       "</style>\n",
       "<table border=\"1\" class=\"dataframe\">\n",
       "  <thead>\n",
       "    <tr style=\"text-align: right;\">\n",
       "      <th></th>\n",
       "      <th>Flight_Number</th>\n",
       "      <th>Air_Time</th>\n",
       "      <th>Distance</th>\n",
       "      <th>Arrival_Delay</th>\n",
       "      <th>Departure_Delay</th>\n",
       "      <th>Mean_Speed(m/m)</th>\n",
       "      <th>Delayed</th>\n",
       "    </tr>\n",
       "  </thead>\n",
       "  <tbody>\n",
       "    <tr>\n",
       "      <th>0</th>\n",
       "      <td>1677</td>\n",
       "      <td>45.0</td>\n",
       "      <td>272</td>\n",
       "      <td>9.0</td>\n",
       "      <td>8.0</td>\n",
       "      <td>6.044444</td>\n",
       "      <td>Yes</td>\n",
       "    </tr>\n",
       "    <tr>\n",
       "      <th>1</th>\n",
       "      <td>876</td>\n",
       "      <td>48.0</td>\n",
       "      <td>325</td>\n",
       "      <td>2.0</td>\n",
       "      <td>9.0</td>\n",
       "      <td>6.770833</td>\n",
       "      <td>Yes</td>\n",
       "    </tr>\n",
       "    <tr>\n",
       "      <th>2</th>\n",
       "      <td>5715</td>\n",
       "      <td>71.0</td>\n",
       "      <td>304</td>\n",
       "      <td>88.0</td>\n",
       "      <td>96.0</td>\n",
       "      <td>4.281690</td>\n",
       "      <td>Yes</td>\n",
       "    </tr>\n",
       "    <tr>\n",
       "      <th>3</th>\n",
       "      <td>871</td>\n",
       "      <td>86.0</td>\n",
       "      <td>616</td>\n",
       "      <td>78.0</td>\n",
       "      <td>90.0</td>\n",
       "      <td>7.162791</td>\n",
       "      <td>Yes</td>\n",
       "    </tr>\n",
       "    <tr>\n",
       "      <th>4</th>\n",
       "      <td>2289</td>\n",
       "      <td>48.0</td>\n",
       "      <td>339</td>\n",
       "      <td>4.0</td>\n",
       "      <td>7.0</td>\n",
       "      <td>7.062500</td>\n",
       "      <td>Yes</td>\n",
       "    </tr>\n",
       "  </tbody>\n",
       "</table>\n",
       "</div>"
      ],
      "text/plain": [
       "   Flight_Number  Air_Time  Distance  Arrival_Delay  Departure_Delay  \\\n",
       "0           1677      45.0       272            9.0              8.0   \n",
       "1            876      48.0       325            2.0              9.0   \n",
       "2           5715      71.0       304           88.0             96.0   \n",
       "3            871      86.0       616           78.0             90.0   \n",
       "4           2289      48.0       339            4.0              7.0   \n",
       "\n",
       "   Mean_Speed(m/m) Delayed  \n",
       "0         6.044444     Yes  \n",
       "1         6.770833     Yes  \n",
       "2         4.281690     Yes  \n",
       "3         7.162791     Yes  \n",
       "4         7.062500     Yes  "
      ]
     },
     "execution_count": 1084,
     "metadata": {},
     "output_type": "execute_result"
    }
   ],
   "source": [
    "#------- EXERCICI 2 --- ACABAT\n",
    "### Crear columna velocidad mediana de los vuelos, si han llegado tarde o no...\n",
    "df2 = df[['Flight_Number', 'Air_Time', 'Distance', 'Arrival_Delay', 'Departure_Delay']]\n",
    "df2[\"Mean_Speed(m/m)\"] = df2['Distance'] / df2['Air_Time']\n",
    "df2['Delayed'] = df2['Arrival_Delay'].apply(lambda x:'Yes' if x > 0 else 'No')\n",
    "df2.head()"
   ]
  },
  {
   "cell_type": "code",
   "execution_count": 1085,
   "id": "a87f3b95",
   "metadata": {},
   "outputs": [
    {
     "data": {
      "text/html": [
       "<div>\n",
       "<style scoped>\n",
       "    .dataframe tbody tr th:only-of-type {\n",
       "        vertical-align: middle;\n",
       "    }\n",
       "\n",
       "    .dataframe tbody tr th {\n",
       "        vertical-align: top;\n",
       "    }\n",
       "\n",
       "    .dataframe thead th {\n",
       "        text-align: right;\n",
       "    }\n",
       "</style>\n",
       "<table border=\"1\" class=\"dataframe\">\n",
       "  <thead>\n",
       "    <tr style=\"text-align: right;\">\n",
       "      <th></th>\n",
       "      <th>Arrival_Delay</th>\n",
       "    </tr>\n",
       "    <tr>\n",
       "      <th>Carrier</th>\n",
       "      <th></th>\n",
       "    </tr>\n",
       "  </thead>\n",
       "  <tbody>\n",
       "    <tr>\n",
       "      <th>WN</th>\n",
       "      <td>1.187374e+06</td>\n",
       "    </tr>\n",
       "    <tr>\n",
       "      <th>AA</th>\n",
       "      <td>9.221281e+05</td>\n",
       "    </tr>\n",
       "    <tr>\n",
       "      <th>UA</th>\n",
       "      <td>6.848961e+05</td>\n",
       "    </tr>\n",
       "    <tr>\n",
       "      <th>MQ</th>\n",
       "      <td>6.541014e+05</td>\n",
       "    </tr>\n",
       "    <tr>\n",
       "      <th>OO</th>\n",
       "      <td>6.139027e+05</td>\n",
       "    </tr>\n",
       "    <tr>\n",
       "      <th>XE</th>\n",
       "      <td>5.484465e+05</td>\n",
       "    </tr>\n",
       "    <tr>\n",
       "      <th>DL</th>\n",
       "      <td>4.682440e+05</td>\n",
       "    </tr>\n",
       "    <tr>\n",
       "      <th>CO</th>\n",
       "      <td>4.182049e+05</td>\n",
       "    </tr>\n",
       "    <tr>\n",
       "      <th>EV</th>\n",
       "      <td>3.977588e+05</td>\n",
       "    </tr>\n",
       "    <tr>\n",
       "      <th>YV</th>\n",
       "      <td>3.926674e+05</td>\n",
       "    </tr>\n",
       "    <tr>\n",
       "      <th>US</th>\n",
       "      <td>3.652171e+05</td>\n",
       "    </tr>\n",
       "    <tr>\n",
       "      <th>NW</th>\n",
       "      <td>3.507739e+05</td>\n",
       "    </tr>\n",
       "    <tr>\n",
       "      <th>FL</th>\n",
       "      <td>3.157420e+05</td>\n",
       "    </tr>\n",
       "    <tr>\n",
       "      <th>B6</th>\n",
       "      <td>3.116559e+05</td>\n",
       "    </tr>\n",
       "    <tr>\n",
       "      <th>OH</th>\n",
       "      <td>2.761246e+05</td>\n",
       "    </tr>\n",
       "    <tr>\n",
       "      <th>9E</th>\n",
       "      <td>2.549584e+05</td>\n",
       "    </tr>\n",
       "    <tr>\n",
       "      <th>AS</th>\n",
       "      <td>1.490927e+05</td>\n",
       "    </tr>\n",
       "    <tr>\n",
       "      <th>F9</th>\n",
       "      <td>8.158549e+04</td>\n",
       "    </tr>\n",
       "    <tr>\n",
       "      <th>HA</th>\n",
       "      <td>2.246008e+04</td>\n",
       "    </tr>\n",
       "    <tr>\n",
       "      <th>AQ</th>\n",
       "      <td>1.076000e+03</td>\n",
       "    </tr>\n",
       "  </tbody>\n",
       "</table>\n",
       "</div>"
      ],
      "text/plain": [
       "         Arrival_Delay\n",
       "Carrier               \n",
       "WN        1.187374e+06\n",
       "AA        9.221281e+05\n",
       "UA        6.848961e+05\n",
       "MQ        6.541014e+05\n",
       "OO        6.139027e+05\n",
       "XE        5.484465e+05\n",
       "DL        4.682440e+05\n",
       "CO        4.182049e+05\n",
       "EV        3.977588e+05\n",
       "YV        3.926674e+05\n",
       "US        3.652171e+05\n",
       "NW        3.507739e+05\n",
       "FL        3.157420e+05\n",
       "B6        3.116559e+05\n",
       "OH        2.761246e+05\n",
       "9E        2.549584e+05\n",
       "AS        1.490927e+05\n",
       "F9        8.158549e+04\n",
       "HA        2.246008e+04\n",
       "AQ        1.076000e+03"
      ]
     },
     "execution_count": 1085,
     "metadata": {},
     "output_type": "execute_result"
    }
   ],
   "source": [
    "#------- EXERCICI 2 --- ACABAT\n",
    "### Fes una taula de les aerolínies amb més endarreriments acumulats.\n",
    "df3 = df[['Carrier', 'Arrival_Delay']]\n",
    "df3_UniqueCarrier_ArrDelay = df3.groupby('Carrier').aggregate(sum)\n",
    "df3_UniqueCarrier_ArrDelay.sort_values(by='Arrival_Delay', ascending=False)"
   ]
  },
  {
   "cell_type": "code",
   "execution_count": 1086,
   "id": "4b5c53c7",
   "metadata": {},
   "outputs": [
    {
     "data": {
      "text/html": [
       "<div>\n",
       "<style scoped>\n",
       "    .dataframe tbody tr th:only-of-type {\n",
       "        vertical-align: middle;\n",
       "    }\n",
       "\n",
       "    .dataframe tbody tr th {\n",
       "        vertical-align: top;\n",
       "    }\n",
       "\n",
       "    .dataframe thead th {\n",
       "        text-align: right;\n",
       "    }\n",
       "</style>\n",
       "<table border=\"1\" class=\"dataframe\">\n",
       "  <thead>\n",
       "    <tr style=\"text-align: right;\">\n",
       "      <th></th>\n",
       "      <th>Air_Time</th>\n",
       "    </tr>\n",
       "    <tr>\n",
       "      <th>Flight_Number</th>\n",
       "      <th></th>\n",
       "    </tr>\n",
       "  </thead>\n",
       "  <tbody>\n",
       "    <tr>\n",
       "      <th>73</th>\n",
       "      <td>31470.873209</td>\n",
       "    </tr>\n",
       "    <tr>\n",
       "      <th>15</th>\n",
       "      <td>30310.936604</td>\n",
       "    </tr>\n",
       "    <tr>\n",
       "      <th>16</th>\n",
       "      <td>27427.809813</td>\n",
       "    </tr>\n",
       "    <tr>\n",
       "      <th>17</th>\n",
       "      <td>26322.936604</td>\n",
       "    </tr>\n",
       "    <tr>\n",
       "      <th>2</th>\n",
       "      <td>26003.000000</td>\n",
       "    </tr>\n",
       "  </tbody>\n",
       "</table>\n",
       "</div>"
      ],
      "text/plain": [
       "                   Air_Time\n",
       "Flight_Number              \n",
       "73             31470.873209\n",
       "15             30310.936604\n",
       "16             27427.809813\n",
       "17             26322.936604\n",
       "2              26003.000000"
      ]
     },
     "execution_count": 1086,
     "metadata": {},
     "output_type": "execute_result"
    }
   ],
   "source": [
    "#------- EXERCICI 2 --- ACABAT\n",
    "### ¿Cuáles son los vuelos más largos?\n",
    "df4 = df[['Flight_Number', 'Air_Time']]\n",
    "df4_more_airtime = df4.groupby('Flight_Number').aggregate(sum)\n",
    "df4_more_airtime.sort_values(by='Air_Time', ascending=False)[:5]"
   ]
  },
  {
   "cell_type": "code",
   "execution_count": 1087,
   "id": "651b68eb",
   "metadata": {},
   "outputs": [
    {
     "data": {
      "text/html": [
       "<div>\n",
       "<style scoped>\n",
       "    .dataframe tbody tr th:only-of-type {\n",
       "        vertical-align: middle;\n",
       "    }\n",
       "\n",
       "    .dataframe tbody tr th {\n",
       "        vertical-align: top;\n",
       "    }\n",
       "\n",
       "    .dataframe thead th {\n",
       "        text-align: right;\n",
       "    }\n",
       "</style>\n",
       "<table border=\"1\" class=\"dataframe\">\n",
       "  <thead>\n",
       "    <tr style=\"text-align: right;\">\n",
       "      <th></th>\n",
       "      <th>Arrival_Delay</th>\n",
       "    </tr>\n",
       "    <tr>\n",
       "      <th>Flight_Number</th>\n",
       "      <th></th>\n",
       "    </tr>\n",
       "  </thead>\n",
       "  <tbody>\n",
       "    <tr>\n",
       "      <th>67</th>\n",
       "      <td>7499.164101</td>\n",
       "    </tr>\n",
       "    <tr>\n",
       "      <th>75</th>\n",
       "      <td>6950.082050</td>\n",
       "    </tr>\n",
       "    <tr>\n",
       "      <th>50</th>\n",
       "      <td>6931.082050</td>\n",
       "    </tr>\n",
       "    <tr>\n",
       "      <th>29</th>\n",
       "      <td>6742.000000</td>\n",
       "    </tr>\n",
       "    <tr>\n",
       "      <th>511</th>\n",
       "      <td>6535.000000</td>\n",
       "    </tr>\n",
       "  </tbody>\n",
       "</table>\n",
       "</div>"
      ],
      "text/plain": [
       "               Arrival_Delay\n",
       "Flight_Number               \n",
       "67               7499.164101\n",
       "75               6950.082050\n",
       "50               6931.082050\n",
       "29               6742.000000\n",
       "511              6535.000000"
      ]
     },
     "execution_count": 1087,
     "metadata": {},
     "output_type": "execute_result"
    }
   ],
   "source": [
    "#------- EXERCICI 2 --- ACABAT\n",
    "### I els més endarrerits?\n",
    "df5 = df[['Flight_Number', 'Arrival_Delay']]\n",
    "df5_more_delayed = df5.groupby('Flight_Number').aggregate(sum)\n",
    "df5_more_delayed.sort_values(by='Arrival_Delay', ascending=False)[:5]"
   ]
  },
  {
   "cell_type": "code",
   "execution_count": 1088,
   "id": "0bc21e03",
   "metadata": {},
   "outputs": [
    {
     "data": {
      "text/html": [
       "<div>\n",
       "<style scoped>\n",
       "    .dataframe tbody tr th:only-of-type {\n",
       "        vertical-align: middle;\n",
       "    }\n",
       "\n",
       "    .dataframe tbody tr th {\n",
       "        vertical-align: top;\n",
       "    }\n",
       "\n",
       "    .dataframe thead th {\n",
       "        text-align: right;\n",
       "    }\n",
       "</style>\n",
       "<table border=\"1\" class=\"dataframe\">\n",
       "  <thead>\n",
       "    <tr style=\"text-align: right;\">\n",
       "      <th></th>\n",
       "      <th>Distance</th>\n",
       "      <th>Origin</th>\n",
       "      <th>Destination</th>\n",
       "    </tr>\n",
       "  </thead>\n",
       "  <tbody>\n",
       "    <tr>\n",
       "      <th>54321</th>\n",
       "      <td>4962</td>\n",
       "      <td>EWR</td>\n",
       "      <td>HNL</td>\n",
       "    </tr>\n",
       "    <tr>\n",
       "      <th>56781</th>\n",
       "      <td>4962</td>\n",
       "      <td>HNL</td>\n",
       "      <td>EWR</td>\n",
       "    </tr>\n",
       "    <tr>\n",
       "      <th>169809</th>\n",
       "      <td>4962</td>\n",
       "      <td>HNL</td>\n",
       "      <td>EWR</td>\n",
       "    </tr>\n",
       "    <tr>\n",
       "      <th>180179</th>\n",
       "      <td>4962</td>\n",
       "      <td>HNL</td>\n",
       "      <td>EWR</td>\n",
       "    </tr>\n",
       "    <tr>\n",
       "      <th>67968</th>\n",
       "      <td>4962</td>\n",
       "      <td>EWR</td>\n",
       "      <td>HNL</td>\n",
       "    </tr>\n",
       "    <tr>\n",
       "      <th>153528</th>\n",
       "      <td>4962</td>\n",
       "      <td>EWR</td>\n",
       "      <td>HNL</td>\n",
       "    </tr>\n",
       "    <tr>\n",
       "      <th>170570</th>\n",
       "      <td>4962</td>\n",
       "      <td>HNL</td>\n",
       "      <td>EWR</td>\n",
       "    </tr>\n",
       "    <tr>\n",
       "      <th>40469</th>\n",
       "      <td>4962</td>\n",
       "      <td>EWR</td>\n",
       "      <td>HNL</td>\n",
       "    </tr>\n",
       "    <tr>\n",
       "      <th>84957</th>\n",
       "      <td>4962</td>\n",
       "      <td>EWR</td>\n",
       "      <td>HNL</td>\n",
       "    </tr>\n",
       "    <tr>\n",
       "      <th>53794</th>\n",
       "      <td>4962</td>\n",
       "      <td>HNL</td>\n",
       "      <td>EWR</td>\n",
       "    </tr>\n",
       "  </tbody>\n",
       "</table>\n",
       "</div>"
      ],
      "text/plain": [
       "        Distance Origin Destination\n",
       "54321       4962    EWR         HNL\n",
       "56781       4962    HNL         EWR\n",
       "169809      4962    HNL         EWR\n",
       "180179      4962    HNL         EWR\n",
       "67968       4962    EWR         HNL\n",
       "153528      4962    EWR         HNL\n",
       "170570      4962    HNL         EWR\n",
       "40469       4962    EWR         HNL\n",
       "84957       4962    EWR         HNL\n",
       "53794       4962    HNL         EWR"
      ]
     },
     "execution_count": 1088,
     "metadata": {},
     "output_type": "execute_result"
    }
   ],
   "source": [
    "#------- EXERCICI 2 --- ACABAT\n",
    "### Busca les rutes mes llarges.\n",
    "df6 = df[['Distance', 'Origin', 'Destination']]\n",
    "df6.groupby(['Origin', 'Destination'])['Distance'].aggregate(sum)\n",
    "df6.sort_values(by=['Distance'], ascending=False)[:10]"
   ]
  },
  {
   "cell_type": "code",
   "execution_count": 1089,
   "id": "7c0b5561",
   "metadata": {},
   "outputs": [
    {
     "data": {
      "text/html": [
       "<div>\n",
       "<style scoped>\n",
       "    .dataframe tbody tr th:only-of-type {\n",
       "        vertical-align: middle;\n",
       "    }\n",
       "\n",
       "    .dataframe tbody tr th {\n",
       "        vertical-align: top;\n",
       "    }\n",
       "\n",
       "    .dataframe thead th {\n",
       "        text-align: right;\n",
       "    }\n",
       "</style>\n",
       "<table border=\"1\" class=\"dataframe\">\n",
       "  <thead>\n",
       "    <tr style=\"text-align: right;\">\n",
       "      <th></th>\n",
       "      <th>Arrival_Delay</th>\n",
       "      <th>Origin</th>\n",
       "      <th>Destination</th>\n",
       "    </tr>\n",
       "  </thead>\n",
       "  <tbody>\n",
       "    <tr>\n",
       "      <th>63188</th>\n",
       "      <td>1267.0</td>\n",
       "      <td>SEA</td>\n",
       "      <td>HNL</td>\n",
       "    </tr>\n",
       "    <tr>\n",
       "      <th>143275</th>\n",
       "      <td>1253.0</td>\n",
       "      <td>RSW</td>\n",
       "      <td>DTW</td>\n",
       "    </tr>\n",
       "    <tr>\n",
       "      <th>112561</th>\n",
       "      <td>1215.0</td>\n",
       "      <td>GJT</td>\n",
       "      <td>DFW</td>\n",
       "    </tr>\n",
       "    <tr>\n",
       "      <th>119126</th>\n",
       "      <td>1203.0</td>\n",
       "      <td>TPA</td>\n",
       "      <td>IND</td>\n",
       "    </tr>\n",
       "    <tr>\n",
       "      <th>26947</th>\n",
       "      <td>1202.0</td>\n",
       "      <td>KOA</td>\n",
       "      <td>SEA</td>\n",
       "    </tr>\n",
       "  </tbody>\n",
       "</table>\n",
       "</div>"
      ],
      "text/plain": [
       "        Arrival_Delay Origin Destination\n",
       "63188          1267.0    SEA         HNL\n",
       "143275         1253.0    RSW         DTW\n",
       "112561         1215.0    GJT         DFW\n",
       "119126         1203.0    TPA         IND\n",
       "26947          1202.0    KOA         SEA"
      ]
     },
     "execution_count": 1089,
     "metadata": {},
     "output_type": "execute_result"
    }
   ],
   "source": [
    "#------- EXERCICI 2 --- ACABAT\n",
    "### ... y las rutas que acumulan más retrasos.\n",
    "df7 = df[['Arrival_Delay', 'Origin', 'Destination']]\n",
    "df7.groupby('Arrival_Delay').aggregate(sum)\n",
    "df7.sort_values(by=['Arrival_Delay'], ascending=False)[:5]"
   ]
  },
  {
   "cell_type": "code",
   "execution_count": 1090,
   "id": "a23c4505",
   "metadata": {
    "scrolled": true
   },
   "outputs": [
    {
     "name": "stderr",
     "output_type": "stream",
     "text": [
      "C:\\Users\\dcuxa\\AppData\\Local\\Temp\\ipykernel_32632\\981567132.py:5: FutureWarning: The operation <built-in function sum> failed on a column. If any error is raised, this will raise an exception in a future version of pandas. Drop these columns to avoid this warning.\n",
      "  df8.groupby('Arrival_Delay').aggregate(sum)\n"
     ]
    },
    {
     "data": {
      "text/html": [
       "<div>\n",
       "<style scoped>\n",
       "    .dataframe tbody tr th:only-of-type {\n",
       "        vertical-align: middle;\n",
       "    }\n",
       "\n",
       "    .dataframe tbody tr th {\n",
       "        vertical-align: top;\n",
       "    }\n",
       "\n",
       "    .dataframe thead th {\n",
       "        text-align: right;\n",
       "    }\n",
       "</style>\n",
       "<table border=\"1\" class=\"dataframe\">\n",
       "  <thead>\n",
       "    <tr style=\"text-align: right;\">\n",
       "      <th></th>\n",
       "      <th>Tail_Number</th>\n",
       "      <th>Arrival_Delay</th>\n",
       "      <th>Air_Time</th>\n",
       "    </tr>\n",
       "  </thead>\n",
       "  <tbody>\n",
       "    <tr>\n",
       "      <th>63188</th>\n",
       "      <td>N597UA</td>\n",
       "      <td>1267.0</td>\n",
       "      <td>346.0</td>\n",
       "    </tr>\n",
       "    <tr>\n",
       "      <th>143275</th>\n",
       "      <td>N508US</td>\n",
       "      <td>1253.0</td>\n",
       "      <td>157.0</td>\n",
       "    </tr>\n",
       "    <tr>\n",
       "      <th>112561</th>\n",
       "      <td>N942MQ</td>\n",
       "      <td>1215.0</td>\n",
       "      <td>103.0</td>\n",
       "    </tr>\n",
       "    <tr>\n",
       "      <th>119126</th>\n",
       "      <td>N987US</td>\n",
       "      <td>1203.0</td>\n",
       "      <td>123.0</td>\n",
       "    </tr>\n",
       "    <tr>\n",
       "      <th>26947</th>\n",
       "      <td>N593NW</td>\n",
       "      <td>1202.0</td>\n",
       "      <td>312.0</td>\n",
       "    </tr>\n",
       "  </tbody>\n",
       "</table>\n",
       "</div>"
      ],
      "text/plain": [
       "       Tail_Number  Arrival_Delay  Air_Time\n",
       "63188       N597UA         1267.0     346.0\n",
       "143275      N508US         1253.0     157.0\n",
       "112561      N942MQ         1215.0     103.0\n",
       "119126      N987US         1203.0     123.0\n",
       "26947       N593NW         1202.0     312.0"
      ]
     },
     "execution_count": 1090,
     "metadata": {},
     "output_type": "execute_result"
    }
   ],
   "source": [
    "#------- EXERCICI 2 --- ACABAT\n",
    "### Aporta aquello que consideres relevante.\n",
    "#df[\"TailNumFreq\"] = df['Tail_Number'].count()\n",
    "df8 = df[['Tail_Number', 'Arrival_Delay', 'Air_Time']]\n",
    "df8.groupby('Arrival_Delay').aggregate(sum)\n",
    "df8.sort_values(by='Arrival_Delay', ascending=False)[:5]"
   ]
  },
  {
   "cell_type": "code",
   "execution_count": 1091,
   "id": "8e4f8285",
   "metadata": {},
   "outputs": [],
   "source": [
    "#------- EXERCICI 3 --- ACABAT\n",
    "\n",
    "df.to_excel('Sprint_03_Tasca_02.xlsx', sheet_name='Sheet1')"
   ]
  }
 ],
 "metadata": {
  "kernelspec": {
   "display_name": "Python 3 (ipykernel)",
   "language": "python",
   "name": "python3"
  },
  "language_info": {
   "codemirror_mode": {
    "name": "ipython",
    "version": 3
   },
   "file_extension": ".py",
   "mimetype": "text/x-python",
   "name": "python",
   "nbconvert_exporter": "python",
   "pygments_lexer": "ipython3",
   "version": "3.10.9"
  }
 },
 "nbformat": 4,
 "nbformat_minor": 5
}
