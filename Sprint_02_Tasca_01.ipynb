{
 "cells": [
  {
   "cell_type": "code",
   "execution_count": 726,
   "id": "dbc4b512",
   "metadata": {},
   "outputs": [],
   "source": [
    "#------- EXERCICI 1 --- ACABAT\n",
    "Lista1T = ['Enero', 'Febrero', 'Marzo']\n",
    "Lista2T = ['Abril', 'Mayo', 'Junio']\n",
    "Lista3T = ['Julio', 'Agosto', 'Septiembre']\n",
    "Lista4T = ['Octubre', 'Noviembre', 'Diciembre']\n",
    "Lista_Año = [Lista1T, Lista2T, Lista3T, Lista4T]"
   ]
  },
  {
   "cell_type": "code",
   "execution_count": 12,
   "id": "8f9899b4",
   "metadata": {},
   "outputs": [
    {
     "name": "stdout",
     "output_type": "stream",
     "text": [
      "[['Enero', 'Febrero', 'Marzo'], ['Abril', 'Mayo', 'Junio'], ['Julio', 'Agosto', 'Septiembre'], ['Octubre', 'Noviembre', 'Diciembre']]\n"
     ]
    }
   ],
   "source": [
    "print (Lista_Año)"
   ]
  },
  {
   "cell_type": "code",
   "execution_count": 725,
   "id": "acb90386",
   "metadata": {
    "scrolled": true
   },
   "outputs": [
    {
     "name": "stdout",
     "output_type": "stream",
     "text": [
      "El segundo mes del primer trimestre es Febrero\n",
      "Los  meses del segundo trimestre son ['Enero', 'Febrero', 'Marzo']\n",
      "Septiembre Octubre\n"
     ]
    }
   ],
   "source": [
    "#------- EXERCICI 2 --- ACABAT\n",
    "print ('El segundo mes del primer trimestre es', Lista1T[1])\n",
    "print ('Los  meses del segundo trimestre son', Lista1T)\n",
    "print (Lista3T[2], Lista4T[0])"
   ]
  },
  {
   "cell_type": "code",
   "execution_count": 794,
   "id": "cb6de36e",
   "metadata": {
    "scrolled": false
   },
   "outputs": [
    {
     "name": "stdout",
     "output_type": "stream",
     "text": [
      "La lista de números es: [77 43 49 33 27 73 51 35 38 28 60 37 54 86  8  3 81  7 86 72]\n",
      "Hay 20 números\n",
      "El número 3 se repite 1 vez.\n",
      "El número 3 y el 4 se repiten 1 vez.\n",
      "El número más grande es el 86\n",
      "Los tres números más pequeños son: [3 7 8]\n",
      "El rango de esta lista es de: 83\n"
     ]
    }
   ],
   "source": [
    "#------- EXERCICI 3 --- ACABAT\n",
    "import numpy as np\n",
    "from numpy import random\n",
    "\n",
    "arr = random.randint(100, size=(20))\n",
    "\n",
    "print('La lista de números es:', arr)\n",
    "\n",
    "print(\"Hay\", len(arr), \"números\")\n",
    "\n",
    "def Repeticion_3():\n",
    "    x = (arr == 3).sum()\n",
    "    if x == 0:\n",
    "        print(\"El número 3 se repite\", x, \"veces.\")\n",
    "    elif x == 1:\n",
    "        print(\"El número 3 se repite\", x, \"vez.\")\n",
    "    else:\n",
    "        print(\"El número 3 se repite\", x, \"veces.\")\n",
    "\n",
    "Repeticion_3()\n",
    "\n",
    "def Repeticion_3y4():\n",
    "    y = (arr == 3).sum()\n",
    "    z = (arr == 4).sum()\n",
    "    w = y + z\n",
    "    if w == 0:\n",
    "        print(\"El número 3 y el 4 se repiten\", w, \"veces.\")\n",
    "    elif w == 1:\n",
    "        print(\"El número 3 y el 4 se repiten\", w, \"vez.\")\n",
    "    else:\n",
    "        print(\"El número 3 y el 4 se repiten\", w, \"veces.\")\n",
    "\n",
    "Repeticion_3y4()\n",
    "        \n",
    "print(\"El número más grande es el\", max(arr))\n",
    "\n",
    "def Minimos():\n",
    "    arr1 = np.sort(arr)\n",
    "    print(\"Los tres números más pequeños son:\", arr1[:3])\n",
    "    \n",
    "Minimos()\n",
    "\n",
    "print('El rango de esta lista es de:', max(arr)-min(arr))"
   ]
  },
  {
   "cell_type": "code",
   "execution_count": 753,
   "id": "a198d23d",
   "metadata": {},
   "outputs": [
    {
     "name": "stdout",
     "output_type": "stream",
     "text": [
      "El precio total de las peras es de 1.98 €\n",
      "El número total de frutas es de 12 unidades\n",
      "La fruta más cara tiene un precio de 0.66 €\n"
     ]
    }
   ],
   "source": [
    "#------- EXERCICI 4 --- ACABAT\n",
    "compra = {\n",
    "    \"Pomes\" : {\"Qty\": 5, \"€\": 0.42},\n",
    "    \"Peres\" : {\"Qty\": 3, \"€\": 0.66}\n",
    "}\n",
    "\n",
    "compra.update({\"Prunes\" : {\"Qty\": 4, \"€\": 0.51}})\n",
    "\n",
    "print('El precio total de las peras es de', compra[\"Peres\"][\"Qty\"]*compra[\"Peres\"][\"€\"], '€')\n",
    "\n",
    "print('El número total de frutas es de', compra[\"Pomes\"][\"Qty\"]+compra[\"Peres\"][\"Qty\"]+compra[\"Prunes\"][\"Qty\"], 'unidades')\n",
    "\n",
    "print('La fruta más cara tiene un precio de', max(compra[\"Pomes\"][\"€\"], compra[\"Peres\"][\"€\"], compra[\"Prunes\"][\"€\"]), '€')"
   ]
  }
 ],
 "metadata": {
  "kernelspec": {
   "display_name": "Python 3 (ipykernel)",
   "language": "python",
   "name": "python3"
  },
  "language_info": {
   "codemirror_mode": {
    "name": "ipython",
    "version": 3
   },
   "file_extension": ".py",
   "mimetype": "text/x-python",
   "name": "python",
   "nbconvert_exporter": "python",
   "pygments_lexer": "ipython3",
   "version": "3.10.9"
  }
 },
 "nbformat": 4,
 "nbformat_minor": 5
}
