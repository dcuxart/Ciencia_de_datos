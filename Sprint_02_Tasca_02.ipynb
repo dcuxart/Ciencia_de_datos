{
 "cells": [
  {
   "cell_type": "code",
   "execution_count": 9,
   "id": "496f468a",
   "metadata": {},
   "outputs": [
    {
     "name": "stdout",
     "output_type": "stream",
     "text": [
      "[9] Excel.lent\n"
     ]
    }
   ],
   "source": [
    "#------- EXERCICI 1 --- ACABAT\n",
    "import numpy as np\n",
    "from numpy import random\n",
    "\n",
    "x = random.randint(10, size=(1))\n",
    "\n",
    "def Calificacion():\n",
    "    if x < 5:\n",
    "        print(x, 'Suspès')\n",
    "    elif x > 4 and x < 7:\n",
    "        print(x, 'Aprovat')\n",
    "    elif x > 6 and x < 9:\n",
    "        print(x, 'Notable')\n",
    "    else:\n",
    "        print(x, 'Excel.lent')\n",
    "    \n",
    "Calificacion()"
   ]
  },
  {
   "cell_type": "code",
   "execution_count": 670,
   "id": "cdbc8537",
   "metadata": {
    "scrolled": true
   },
   "outputs": [
    {
     "name": "stdout",
     "output_type": "stream",
     "text": [
      "Introduce tu primer número: 4\n",
      "Introduce tu segundo número: 5\n",
      "Tu segundo número es más grande que el primero.\n"
     ]
    }
   ],
   "source": [
    "#------- EXERCICI 2 --- ACABAT\n",
    "x = int(input('Introduce tu primer número: '))\n",
    "\n",
    "y = int(input('Introduce tu segundo número: '))\n",
    "\n",
    "def Comparacion():\n",
    "    if x > y:\n",
    "        print('Tu primer número es más grande que el segundo.')\n",
    "    elif x < y:\n",
    "        print('Tu segundo número es más grande que el primero.')\n",
    "    else:\n",
    "        print('Tus dos números son iguales.')\n",
    "\n",
    "Comparacion()"
   ]
  },
  {
   "cell_type": "code",
   "execution_count": 681,
   "id": "3866aed6",
   "metadata": {},
   "outputs": [
    {
     "name": "stdout",
     "output_type": "stream",
     "text": [
      "¿Cuál es tu nombre? Jose\n",
      "Ahora introduce un número: 9\n",
      "Jose Jose Jose Jose Jose Jose Jose Jose Jose \n"
     ]
    }
   ],
   "source": [
    "#------- EXERCICI 3 --- ACABAT\n",
    "x = input('¿Cuál es tu nombre? ')\n",
    "x = x + \" \"\n",
    "\n",
    "y = int(input('Ahora introduce un número: '))\n",
    "\n",
    "def Repeticion():\n",
    "    if y == 0:\n",
    "        print('Número inválido. Introduce un número más grande que 0')\n",
    "    else:\n",
    "        print(x*y)\n",
    "\n",
    "Repeticion()"
   ]
  },
  {
   "cell_type": "code",
   "execution_count": 6,
   "id": "8edb4b26",
   "metadata": {
    "scrolled": true
   },
   "outputs": [
    {
     "name": "stdout",
     "output_type": "stream",
     "text": [
      "La lista [0 1 1 1 0] es simétrica y contiene 5 elementos.\n"
     ]
    }
   ],
   "source": [
    "#------- EXERCICI 4 --- ACABAT\n",
    "import numpy as np\n",
    "from numpy import random\n",
    "\n",
    "arr = random.randint(2, size=(5))\n",
    "\n",
    "arr1 = arr[::-1]\n",
    "\n",
    "def Simetria():\n",
    "    if (arr == arr1).all():\n",
    "        print('La lista', arr, 'es simétrica y contiene', len(arr), 'elementos.')\n",
    "    else:\n",
    "        print('La lista', arr, 'no es simetrica.')\n",
    "        \n",
    "Simetria()"
   ]
  },
  {
   "cell_type": "code",
   "execution_count": 87,
   "id": "b696e61a",
   "metadata": {},
   "outputs": [
    {
     "name": "stdout",
     "output_type": "stream",
     "text": [
      "En [3 1 9 7 3 9 9 9 6 4] hay 1 números que coinciden con su posición.\n"
     ]
    }
   ],
   "source": [
    "#------- EXERCICI 5 --- ACABAT\n",
    "import numpy as np\n",
    "from numpy import random\n",
    "\n",
    "arr = random.randint(10, size=(10))\n",
    "arr2 = np.arange(0, 10)\n",
    "\n",
    "y = np.where(arr[:] == arr2)\n",
    "\n",
    "z = np.count_nonzero(y)\n",
    "\n",
    "if y == 1:\n",
    "    print('En', arr, 'hay', z, 'número que coincide con su posición.')\n",
    "else:\n",
    "    print('En', arr, 'hay', z, 'números que coinciden con su posición.')"
   ]
  }
 ],
 "metadata": {
  "kernelspec": {
   "display_name": "Python 3 (ipykernel)",
   "language": "python",
   "name": "python3"
  },
  "language_info": {
   "codemirror_mode": {
    "name": "ipython",
    "version": 3
   },
   "file_extension": ".py",
   "mimetype": "text/x-python",
   "name": "python",
   "nbconvert_exporter": "python",
   "pygments_lexer": "ipython3",
   "version": "3.10.9"
  }
 },
 "nbformat": 4,
 "nbformat_minor": 5
}
