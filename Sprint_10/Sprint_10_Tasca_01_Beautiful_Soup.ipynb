{
 "cells": [
  {
   "cell_type": "markdown",
   "id": "6397e37f",
   "metadata": {},
   "source": [
    "En primer lugar cargamos la página web para proceder a su extracción."
   ]
  },
  {
   "cell_type": "code",
   "execution_count": 1,
   "id": "64008c8a",
   "metadata": {},
   "outputs": [],
   "source": [
    "import requests\n",
    "\n",
    "URL = \"http://quotes.toscrape.com/\"\n",
    "page = requests.get(URL)\n",
    "\n",
    "# print(page.text)"
   ]
  },
  {
   "cell_type": "code",
   "execution_count": 2,
   "id": "b8b1f5c0",
   "metadata": {},
   "outputs": [],
   "source": [
    "from bs4 import BeautifulSoup\n",
    "\n",
    "soup = BeautifulSoup(page.content, \"html.parser\")\n",
    "\n",
    "# soup"
   ]
  },
  {
   "cell_type": "code",
   "execution_count": 3,
   "id": "ed7eabc9",
   "metadata": {},
   "outputs": [],
   "source": [
    "results = soup.find(class_=\"container\")\n",
    "\n",
    "# print(results.prettify())"
   ]
  },
  {
   "cell_type": "markdown",
   "id": "d7aaae89",
   "metadata": {},
   "source": [
    "Extraemos en primer lugar cada una de las citas para cada una de las páginas."
   ]
  },
  {
   "cell_type": "code",
   "execution_count": 28,
   "id": "0cac43c7",
   "metadata": {},
   "outputs": [
    {
     "data": {
      "text/plain": [
       "100"
      ]
     },
     "execution_count": 28,
     "metadata": {},
     "output_type": "execute_result"
    }
   ],
   "source": [
    "quote_elements = results.find_all(\"span\", class_=\"text\")\n",
    "\n",
    "current_url = URL\n",
    "\n",
    "texts = []\n",
    "\n",
    "while True:\n",
    "    page = requests.get(current_url)\n",
    "    soup = BeautifulSoup(page.content, \"html.parser\")\n",
    "    results = soup.find(class_=\"container\")\n",
    "\n",
    "    for quote_element in quote_elements:\n",
    "        text = quote_element.get_text(strip=True)\n",
    "        texts.append(text)\n",
    "        \n",
    "    next_button = soup.find(\"li\", class_=\"next\")\n",
    "    \n",
    "    if next_button:\n",
    "        current_url = URL + next_button.find(\"a\")[\"href\"]\n",
    "    else:\n",
    "        break\n",
    "    \n",
    "len(texts)"
   ]
  },
  {
   "cell_type": "markdown",
   "id": "4fa891a9",
   "metadata": {},
   "source": [
    "Procedemos de la misma manera con los autores."
   ]
  },
  {
   "cell_type": "code",
   "execution_count": 27,
   "id": "275bccf3",
   "metadata": {},
   "outputs": [
    {
     "data": {
      "text/plain": [
       "100"
      ]
     },
     "execution_count": 27,
     "metadata": {},
     "output_type": "execute_result"
    }
   ],
   "source": [
    "author_elements = results.find_all(\"small\", class_=\"author\")\n",
    "\n",
    "URL = \"http://quotes.toscrape.com/\"\n",
    "current_URL = URL\n",
    "authors = []\n",
    "\n",
    "while True:\n",
    "    page = requests.get(current_URL)\n",
    "    soup = BeautifulSoup(page.content, \"html.parser\")\n",
    "    results = soup.find(class_=\"container\")\n",
    "    \n",
    "    for author_element in author_elements:\n",
    "        author = author_element.get_text(strip=True)\n",
    "        authors.append(author)\n",
    "    \n",
    "    next_button = soup.find(\"li\", class_=\"next\")\n",
    "        \n",
    "    if next_button:\n",
    "        current_URL = URL + next_button.find(\"a\")[\"href\"]\n",
    "    else:\n",
    "        break\n",
    "\n",
    "len(authors)"
   ]
  },
  {
   "cell_type": "markdown",
   "id": "ff49da9a",
   "metadata": {},
   "source": [
    "Y finalmente con las etiquetas."
   ]
  },
  {
   "cell_type": "code",
   "execution_count": 30,
   "id": "da29abdd",
   "metadata": {},
   "outputs": [
    {
     "data": {
      "text/plain": [
       "100"
      ]
     },
     "execution_count": 30,
     "metadata": {},
     "output_type": "execute_result"
    }
   ],
   "source": [
    "total_elements = results.find_all(\"div\", class_=\"quote\")\n",
    "\n",
    "URL = \"http://quotes.toscrape.com/\"\n",
    "current_URL = URL\n",
    "tags = []\n",
    "\n",
    "while True:\n",
    "    page = requests.get(current_URL)\n",
    "    soup = BeautifulSoup(page.content, \"html.parser\")\n",
    "    results = soup.find(class_=\"container\")\n",
    "    \n",
    "    for tag_element in total_elements:\n",
    "        tag = tag_element.find('div', class_='tags').meta['content']\n",
    "        #tag = tag_element.get_text(strip=True)\n",
    "        tags.append(tag)\n",
    "    \n",
    "    next_button = soup.find(\"li\", class_=\"next\")\n",
    "        \n",
    "    if next_button:\n",
    "        current_URL = URL + next_button.find(\"a\")[\"href\"]\n",
    "    else:\n",
    "        break\n",
    "\n",
    "len(tags)"
   ]
  },
  {
   "cell_type": "markdown",
   "id": "060b4eff",
   "metadata": {},
   "source": [
    "Finalmente procedemos a juntar en un mismo dataset toda la información extraída individualmente."
   ]
  },
  {
   "cell_type": "code",
   "execution_count": 37,
   "id": "4413746c",
   "metadata": {
    "scrolled": true
   },
   "outputs": [
    {
     "data": {
      "text/html": [
       "<div>\n",
       "<style scoped>\n",
       "    .dataframe tbody tr th:only-of-type {\n",
       "        vertical-align: middle;\n",
       "    }\n",
       "\n",
       "    .dataframe tbody tr th {\n",
       "        vertical-align: top;\n",
       "    }\n",
       "\n",
       "    .dataframe thead th {\n",
       "        text-align: right;\n",
       "    }\n",
       "</style>\n",
       "<table border=\"1\" class=\"dataframe\">\n",
       "  <thead>\n",
       "    <tr style=\"text-align: right;\">\n",
       "      <th></th>\n",
       "      <th>Author</th>\n",
       "      <th>Quote</th>\n",
       "      <th>Tags</th>\n",
       "    </tr>\n",
       "  </thead>\n",
       "  <tbody>\n",
       "    <tr>\n",
       "      <th>0</th>\n",
       "      <td>Albert Einstein</td>\n",
       "      <td>“The world as we have created it is a process ...</td>\n",
       "      <td>change,deep-thoughts,thinking,world</td>\n",
       "    </tr>\n",
       "    <tr>\n",
       "      <th>1</th>\n",
       "      <td>J.K. Rowling</td>\n",
       "      <td>“It is our choices, Harry, that show what we t...</td>\n",
       "      <td>abilities,choices</td>\n",
       "    </tr>\n",
       "    <tr>\n",
       "      <th>2</th>\n",
       "      <td>Albert Einstein</td>\n",
       "      <td>“There are only two ways to live your life. On...</td>\n",
       "      <td>inspirational,life,live,miracle,miracles</td>\n",
       "    </tr>\n",
       "    <tr>\n",
       "      <th>3</th>\n",
       "      <td>Jane Austen</td>\n",
       "      <td>“The person, be it gentleman or lady, who has ...</td>\n",
       "      <td>aliteracy,books,classic,humor</td>\n",
       "    </tr>\n",
       "    <tr>\n",
       "      <th>4</th>\n",
       "      <td>Marilyn Monroe</td>\n",
       "      <td>“Imperfection is beauty, madness is genius and...</td>\n",
       "      <td>be-yourself,inspirational</td>\n",
       "    </tr>\n",
       "    <tr>\n",
       "      <th>...</th>\n",
       "      <td>...</td>\n",
       "      <td>...</td>\n",
       "      <td>...</td>\n",
       "    </tr>\n",
       "    <tr>\n",
       "      <th>95</th>\n",
       "      <td>Harper Lee</td>\n",
       "      <td>“You never really understand a person until yo...</td>\n",
       "      <td>better-life-empathy</td>\n",
       "    </tr>\n",
       "    <tr>\n",
       "      <th>96</th>\n",
       "      <td>Madeleine L'Engle</td>\n",
       "      <td>“You have to write the book that wants to be w...</td>\n",
       "      <td>books,children,difficult,grown-ups,write,write...</td>\n",
       "    </tr>\n",
       "    <tr>\n",
       "      <th>97</th>\n",
       "      <td>Mark Twain</td>\n",
       "      <td>“Never tell the truth to people who are not wo...</td>\n",
       "      <td>truth</td>\n",
       "    </tr>\n",
       "    <tr>\n",
       "      <th>98</th>\n",
       "      <td>Dr. Seuss</td>\n",
       "      <td>“A person's a person, no matter how small.”</td>\n",
       "      <td>inspirational</td>\n",
       "    </tr>\n",
       "    <tr>\n",
       "      <th>99</th>\n",
       "      <td>George R.R. Martin</td>\n",
       "      <td>“... a mind needs books as a sword needs a whe...</td>\n",
       "      <td>books,mind</td>\n",
       "    </tr>\n",
       "  </tbody>\n",
       "</table>\n",
       "<p>100 rows × 3 columns</p>\n",
       "</div>"
      ],
      "text/plain": [
       "                Author                                              Quote  \\\n",
       "0      Albert Einstein  “The world as we have created it is a process ...   \n",
       "1         J.K. Rowling  “It is our choices, Harry, that show what we t...   \n",
       "2      Albert Einstein  “There are only two ways to live your life. On...   \n",
       "3          Jane Austen  “The person, be it gentleman or lady, who has ...   \n",
       "4       Marilyn Monroe  “Imperfection is beauty, madness is genius and...   \n",
       "..                 ...                                                ...   \n",
       "95          Harper Lee  “You never really understand a person until yo...   \n",
       "96   Madeleine L'Engle  “You have to write the book that wants to be w...   \n",
       "97          Mark Twain  “Never tell the truth to people who are not wo...   \n",
       "98           Dr. Seuss        “A person's a person, no matter how small.”   \n",
       "99  George R.R. Martin  “... a mind needs books as a sword needs a whe...   \n",
       "\n",
       "                                                 Tags  \n",
       "0                 change,deep-thoughts,thinking,world  \n",
       "1                                   abilities,choices  \n",
       "2            inspirational,life,live,miracle,miracles  \n",
       "3                       aliteracy,books,classic,humor  \n",
       "4                           be-yourself,inspirational  \n",
       "..                                                ...  \n",
       "95                                better-life-empathy  \n",
       "96  books,children,difficult,grown-ups,write,write...  \n",
       "97                                              truth  \n",
       "98                                      inspirational  \n",
       "99                                         books,mind  \n",
       "\n",
       "[100 rows x 3 columns]"
      ]
     },
     "execution_count": 37,
     "metadata": {},
     "output_type": "execute_result"
    }
   ],
   "source": [
    "import pandas as pd\n",
    "\n",
    "df_quotes = pd.DataFrame({'Author': authors, 'Quote': texts, 'Tags': tags})\n",
    "df_quotes"
   ]
  },
  {
   "cell_type": "markdown",
   "id": "f32a9e91",
   "metadata": {},
   "source": [
    "Ahora procedemos a realizar lo mismo, pero con una tabla de los microestados del mundo en un artículo de la wikipedia."
   ]
  },
  {
   "cell_type": "code",
   "execution_count": 38,
   "id": "e6b63dff",
   "metadata": {},
   "outputs": [],
   "source": [
    "URL_wiki = \"https://en.wikipedia.org/wiki/List_of_micronations\"\n",
    "\n",
    "page_wiki = requests.get(URL_wiki)"
   ]
  },
  {
   "cell_type": "code",
   "execution_count": 39,
   "id": "78e8d254",
   "metadata": {},
   "outputs": [],
   "source": [
    "soup_wiki = BeautifulSoup(page_wiki.content, \"html.parser\")\n",
    "\n",
    "# soup_wiki"
   ]
  },
  {
   "cell_type": "markdown",
   "id": "a37f408f",
   "metadata": {},
   "source": [
    "En este caso, la extracción de la tabla con Beautiful Soup y podemos localizar la tabla con una sencilla instrucción, para después formar un dataframe y así poderla visualizar."
   ]
  },
  {
   "cell_type": "code",
   "execution_count": 40,
   "id": "84106610",
   "metadata": {},
   "outputs": [],
   "source": [
    "results_wiki = soup_wiki.find_all('table', {'class': 'wikitable'})\n",
    "\n",
    "# results_wiki"
   ]
  },
  {
   "cell_type": "code",
   "execution_count": 45,
   "id": "e32cd2a9",
   "metadata": {
    "scrolled": true
   },
   "outputs": [
    {
     "data": {
      "text/html": [
       "<div>\n",
       "<style scoped>\n",
       "    .dataframe tbody tr th:only-of-type {\n",
       "        vertical-align: middle;\n",
       "    }\n",
       "\n",
       "    .dataframe tbody tr th {\n",
       "        vertical-align: top;\n",
       "    }\n",
       "\n",
       "    .dataframe thead th {\n",
       "        text-align: right;\n",
       "    }\n",
       "</style>\n",
       "<table border=\"1\" class=\"dataframe\">\n",
       "  <thead>\n",
       "    <tr style=\"text-align: right;\">\n",
       "      <th></th>\n",
       "      <th>Flag</th>\n",
       "      <th>Foundation</th>\n",
       "      <th>Name</th>\n",
       "      <th>Description</th>\n",
       "    </tr>\n",
       "  </thead>\n",
       "  <tbody>\n",
       "    <tr>\n",
       "      <th>0</th>\n",
       "      <td>Antarctica</td>\n",
       "      <td>Antarctica</td>\n",
       "      <td>Antarctica</td>\n",
       "      <td>Antarctica</td>\n",
       "    </tr>\n",
       "    <tr>\n",
       "      <th>1</th>\n",
       "      <td>NaN</td>\n",
       "      <td>2008</td>\n",
       "      <td>Grand Duchy of Flandrensis</td>\n",
       "      <td>Founded as a short-term hobby,[2] Flandrensis ...</td>\n",
       "    </tr>\n",
       "    <tr>\n",
       "      <th>2</th>\n",
       "      <td>NaN</td>\n",
       "      <td>2001</td>\n",
       "      <td>Grand Duchy of Westarctica</td>\n",
       "      <td>Founded by Travis McHenry, Westarctica claims ...</td>\n",
       "    </tr>\n",
       "    <tr>\n",
       "      <th>3</th>\n",
       "      <td>Antigua and Barbuda</td>\n",
       "      <td>Antigua and Barbuda</td>\n",
       "      <td>Antigua and Barbuda</td>\n",
       "      <td>Antigua and Barbuda</td>\n",
       "    </tr>\n",
       "    <tr>\n",
       "      <th>4</th>\n",
       "      <td>NaN</td>\n",
       "      <td>1865</td>\n",
       "      <td>Kingdom of Redonda</td>\n",
       "      <td>Redonda is a small, uninhabitable island south...</td>\n",
       "    </tr>\n",
       "    <tr>\n",
       "      <th>...</th>\n",
       "      <td>...</td>\n",
       "      <td>...</td>\n",
       "      <td>...</td>\n",
       "      <td>...</td>\n",
       "    </tr>\n",
       "    <tr>\n",
       "      <th>76</th>\n",
       "      <td>Link to file</td>\n",
       "      <td>2000</td>\n",
       "      <td>Global Country of World Peace</td>\n",
       "      <td>Maharishi Mahesh Yogi, the founder of Transcen...</td>\n",
       "    </tr>\n",
       "    <tr>\n",
       "      <th>77</th>\n",
       "      <td>NaN</td>\n",
       "      <td>1990</td>\n",
       "      <td>Dominion of Melchizedek</td>\n",
       "      <td>This source of financial fraud[60] claims seve...</td>\n",
       "    </tr>\n",
       "    <tr>\n",
       "      <th>78</th>\n",
       "      <td>NaN</td>\n",
       "      <td>1998</td>\n",
       "      <td>Nova Roma</td>\n",
       "      <td>Nova Roma is an organization that seeks to rec...</td>\n",
       "    </tr>\n",
       "    <tr>\n",
       "      <th>79</th>\n",
       "      <td>NaN</td>\n",
       "      <td>1973</td>\n",
       "      <td>Nutopia</td>\n",
       "      <td>John Lennon and Yoko Ono founded this \"concept...</td>\n",
       "    </tr>\n",
       "    <tr>\n",
       "      <th>80</th>\n",
       "      <td>NaN</td>\n",
       "      <td>1979</td>\n",
       "      <td>Kingdom of Talossa</td>\n",
       "      <td>An American teenager in Milwaukee, Wisconsin, ...</td>\n",
       "    </tr>\n",
       "  </tbody>\n",
       "</table>\n",
       "<p>81 rows × 4 columns</p>\n",
       "</div>"
      ],
      "text/plain": [
       "                   Flag           Foundation                           Name  \\\n",
       "0            Antarctica           Antarctica                     Antarctica   \n",
       "1                   NaN                 2008     Grand Duchy of Flandrensis   \n",
       "2                   NaN                 2001     Grand Duchy of Westarctica   \n",
       "3   Antigua and Barbuda  Antigua and Barbuda            Antigua and Barbuda   \n",
       "4                   NaN                 1865             Kingdom of Redonda   \n",
       "..                  ...                  ...                            ...   \n",
       "76         Link to file                 2000  Global Country of World Peace   \n",
       "77                  NaN                 1990        Dominion of Melchizedek   \n",
       "78                  NaN                 1998                      Nova Roma   \n",
       "79                  NaN                 1973                        Nutopia   \n",
       "80                  NaN                 1979             Kingdom of Talossa   \n",
       "\n",
       "                                          Description  \n",
       "0                                          Antarctica  \n",
       "1   Founded as a short-term hobby,[2] Flandrensis ...  \n",
       "2   Founded by Travis McHenry, Westarctica claims ...  \n",
       "3                                 Antigua and Barbuda  \n",
       "4   Redonda is a small, uninhabitable island south...  \n",
       "..                                                ...  \n",
       "76  Maharishi Mahesh Yogi, the founder of Transcen...  \n",
       "77  This source of financial fraud[60] claims seve...  \n",
       "78  Nova Roma is an organization that seeks to rec...  \n",
       "79  John Lennon and Yoko Ono founded this \"concept...  \n",
       "80  An American teenager in Milwaukee, Wisconsin, ...  \n",
       "\n",
       "[81 rows x 4 columns]"
      ]
     },
     "execution_count": 45,
     "metadata": {},
     "output_type": "execute_result"
    }
   ],
   "source": [
    "df = pd.read_html(str(results_wiki))\n",
    "\n",
    "df = pd.DataFrame(df[0])\n",
    "df"
   ]
  }
 ],
 "metadata": {
  "kernelspec": {
   "display_name": "Python 3 (ipykernel)",
   "language": "python",
   "name": "python3"
  },
  "language_info": {
   "codemirror_mode": {
    "name": "ipython",
    "version": 3
   },
   "file_extension": ".py",
   "mimetype": "text/x-python",
   "name": "python",
   "nbconvert_exporter": "python",
   "pygments_lexer": "ipython3",
   "version": "3.10.9"
  }
 },
 "nbformat": 4,
 "nbformat_minor": 5
}
