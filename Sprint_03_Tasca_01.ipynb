{
 "cells": [
  {
   "cell_type": "code",
   "execution_count": 6,
   "id": "494a98e8",
   "metadata": {
    "scrolled": true
   },
   "outputs": [
    {
     "name": "stdout",
     "output_type": "stream",
     "text": [
      "[[5.1 3.5 1.4 0.2]\n",
      " [4.9 3.  1.4 0.2]\n",
      " [4.7 3.2 1.3 0.2]\n",
      " [4.6 3.1 1.5 0.2]\n",
      " [5.  3.6 1.4 0.2]\n",
      " [5.4 3.9 1.7 0.4]\n",
      " [4.6 3.4 1.4 0.3]\n",
      " [5.  3.4 1.5 0.2]\n",
      " [4.4 2.9 1.4 0.2]\n",
      " [4.9 3.1 1.5 0.1]]\n",
      "[0 0 0 0 0 0 0 0 0 0]\n"
     ]
    }
   ],
   "source": [
    "#------- EXERCICI 1 --- ACABAT\n",
    "from sklearn.datasets import load_iris\n",
    "\n",
    "iris = load_iris()\n",
    "\n",
    "dimensiones_especie = iris.data \n",
    "clase_especie = iris.target\n",
    "\n",
    "print(dimensiones_especie[:10])\n",
    "\n",
    "print(clase_especie[:10])"
   ]
  },
  {
   "cell_type": "code",
   "execution_count": 7,
   "id": "2f69d750",
   "metadata": {
    "scrolled": true
   },
   "outputs": [
    {
     "name": "stdout",
     "output_type": "stream",
     "text": [
      "[[5.1 3.5 1.4 0.2 0. ]\n",
      " [4.9 3.  1.4 0.2 0. ]\n",
      " [4.7 3.2 1.3 0.2 0. ]\n",
      " [4.6 3.1 1.5 0.2 0. ]\n",
      " [5.  3.6 1.4 0.2 0. ]]\n"
     ]
    }
   ],
   "source": [
    "#------- EXERCICI 2 --- ACABAT\n",
    "import numpy as np\n",
    "\n",
    "dimensiones_clase_especie = np.column_stack((dimensiones_especie, clase_especie))\n",
    "\n",
    "print(dimensiones_clase_especie[:5])"
   ]
  },
  {
   "cell_type": "code",
   "execution_count": 8,
   "id": "41de8908",
   "metadata": {},
   "outputs": [
    {
     "name": "stdout",
     "output_type": "stream",
     "text": [
      "La mediana de la longitud del sépalo es de 5.84 cm\n",
      "La desviación estandar de la longitud del sépalo es de 0.83 cm\n",
      "La mediana de la longitud del pétalo es de 3.76 cm\n",
      "La desviación estandar de la longitud del pétalo es de 1.76 cm\n"
     ]
    }
   ],
   "source": [
    "## ------- EXERCICI 3 --- ACABAT    \n",
    "\n",
    "print('La mediana de la longitud del sépalo es de', round(np.mean(dimensiones_especie[:,0]), 2), 'cm')\n",
    "print('La desviación estandar de la longitud del sépalo es de', round(np.std(dimensiones_especie[:,0]), 2), 'cm')\n",
    "print('La mediana de la longitud del pétalo es de', round(np.mean(dimensiones_especie[:,2]), 2), 'cm')\n",
    "print('La desviación estandar de la longitud del pétalo es de', round(np.std(dimensiones_especie[:,2]), 2), 'cm')"
   ]
  },
  {
   "cell_type": "code",
   "execution_count": 9,
   "id": "4bc6f826",
   "metadata": {
    "scrolled": true
   },
   "outputs": [
    {
     "name": "stdout",
     "output_type": "stream",
     "text": [
      "[[5.6 2.9 3.6 1.3 1. ]\n",
      " [6.5 3.  5.8 2.2 2. ]\n",
      " [6.3 2.7 4.9 1.8 2. ]\n",
      " [6.3 2.5 4.9 1.5 1. ]\n",
      " [6.1 3.  4.6 1.4 1. ]\n",
      " [5.1 3.5 1.4 0.2 0. ]\n",
      " [6.2 3.4 5.4 2.3 2. ]\n",
      " [5.8 2.6 4.  1.2 1. ]\n",
      " [5.8 4.  1.2 0.2 0. ]\n",
      " [6.3 2.9 5.6 1.8 2. ]\n",
      " [6.  3.  4.8 1.8 2. ]\n",
      " [5.2 3.5 1.5 0.2 0. ]\n",
      " [5.  2.  3.5 1.  1. ]\n",
      " [4.3 3.  1.1 0.1 0. ]\n",
      " [5.4 3.  4.5 1.5 1. ]\n",
      " [5.8 2.7 5.1 1.9 2. ]\n",
      " [5.6 3.  4.1 1.3 1. ]\n",
      " [5.5 3.5 1.3 0.2 0. ]\n",
      " [6.1 2.8 4.7 1.2 1. ]\n",
      " [5.  3.4 1.5 0.2 0. ]]\n"
     ]
    }
   ],
   "source": [
    "#------- EXERCICI 4 --- ACABAT\n",
    "from numpy import random\n",
    "\n",
    "print(dimensiones_clase_especie[np.random.choice(len(dimensiones_clase_especie), 20)])"
   ]
  },
  {
   "cell_type": "code",
   "execution_count": 10,
   "id": "dc384eec",
   "metadata": {
    "scrolled": true
   },
   "outputs": [
    {
     "name": "stdout",
     "output_type": "stream",
     "text": [
      "[array([[5.01, 3.43, 1.46, 0.25, 0.  ],\n",
      "       [5.94, 2.77, 4.26, 1.33, 1.  ],\n",
      "       [6.59, 2.97, 5.55, 2.03, 2.  ]]), array([[0.35, 0.38, 0.17, 0.1 , 0.  ],\n",
      "       [0.51, 0.31, 0.47, 0.2 , 0.  ],\n",
      "       [0.63, 0.32, 0.55, 0.27, 0.  ]])]\n"
     ]
    }
   ],
   "source": [
    "#------- EXERCICI 5 --- ACABAT\n",
    "\n",
    "filtro_por_especie = np.unique(dimensiones_clase_especie[:, 4])\n",
    "\n",
    "mean = []\n",
    "std = []\n",
    "\n",
    "for especie in filtro_por_especie:\n",
    "    etiqueta_especie = dimensiones_clase_especie[dimensiones_clase_especie[:, 4] == especie]\n",
    "    mean_dimensiones_especie = np.round(np.mean(etiqueta_especie, axis=0), 2)\n",
    "    std_dimensiones_especie = np.round(np.std(etiqueta_especie, axis=0), 2)\n",
    "    mean.append(mean_dimensiones_especie)\n",
    "    std.append(std_dimensiones_especie)  \n",
    "    \n",
    "arr_mean = np.array(mean)                \n",
    "arr_std = np.array(std)\n",
    "\n",
    "print([arr_mean, arr_std])"
   ]
  },
  {
   "cell_type": "code",
   "execution_count": 11,
   "id": "5260caf5",
   "metadata": {
    "scrolled": true
   },
   "outputs": [
    {
     "name": "stdout",
     "output_type": "stream",
     "text": [
      "Las cantidades de las especies setosa, versicolor y virginica son respectivamente de:\n",
      "(50,)\n",
      "(50,)\n",
      "(50,)\n",
      "La especie con el valor máximo de mediana de la variable \"longitud del sépalo\" es: ['virginica']\n"
     ]
    }
   ],
   "source": [
    "#------- EXERCICI 6 --- ACABAT\n",
    "\n",
    "nombres_clase_especie = iris.target_names\n",
    "\n",
    "print('Las cantidades de las especies setosa, versicolor y virginica son respectivamente de:')\n",
    "\n",
    "for cantidad in np.unique(clase_especie):\n",
    "    cantidad_registros_especie = clase_especie[cantidad == clase_especie]\n",
    "    print(np.shape(cantidad_registros_especie))  \n",
    "    \n",
    "especie_max_mean_long_sepalo = nombres_clase_especie[arr_mean[:, 0] == np.max(arr_mean)] \n",
    "print('La especie con el valor máximo de mediana de la variable \"longitud del sépalo\" es:', especie_max_mean_long_sepalo)"
   ]
  },
  {
   "cell_type": "code",
   "execution_count": 12,
   "id": "2c32ffcd",
   "metadata": {},
   "outputs": [
    {
     "name": "stdout",
     "output_type": "stream",
     "text": [
      "La matriz de correlación entre las variables es de:\n",
      "[[ 1.         -0.11756978  0.87175378  0.81794113]\n",
      " [-0.11756978  1.         -0.4284401  -0.36612593]\n",
      " [ 0.87175378 -0.4284401   1.          0.96286543]\n",
      " [ 0.81794113 -0.36612593  0.96286543  1.        ]]\n",
      "Los valores superiores a la mediana de longitud de los pétalos son:\n",
      "[4.7 4.5 4.9 4.  4.6 4.5 4.7 4.6 3.9 4.2 4.  4.7 4.4 4.5 4.1 4.5 3.9 4.8\n",
      " 4.  4.9 4.7 4.3 4.4 4.8 5.  4.5 3.8 3.9 5.1 4.5 4.5 4.7 4.4 4.1 4.  4.4\n",
      " 4.6 4.  4.2 4.2 4.2 4.3 4.1 6.  5.1 5.9 5.6 5.8 6.6 4.5 6.3 5.8 6.1 5.1\n",
      " 5.3 5.5 5.  5.1 5.3 5.5 6.7 6.9 5.  5.7 4.9 6.7 4.9 5.7 6.  4.8 4.9 5.6\n",
      " 5.8 6.1 6.4 5.6 5.1 5.6 6.1 5.6 5.5 4.8 5.4 5.6 5.1 5.1 5.9 5.7 5.2 5.\n",
      " 5.2 5.4 5.1]\n",
      "La muestra con los pétalos más grandes es: [[7.7 2.6 6.9 2.3 2. ]]\n"
     ]
    }
   ],
   "source": [
    "#------- EXERCICI 7 --- ACABAT\n",
    "\n",
    "print('La matriz de correlación entre las variables es de:')\n",
    "print(np.corrcoef(dimensiones_especie, rowvar=False))\n",
    "\n",
    "registros_sup_max_mean_long_petalo = dimensiones_especie[dimensiones_especie[:, 2] > np.mean(dimensiones_clase_especie[:, 2])]\n",
    "print('Los valores superiores a la mediana de longitud de los pétalos son:')\n",
    "print(registros_sup_max_mean_long_petalo[:, 2])\n",
    "\n",
    "filtro_max_long_petalo = np.max(dimensiones_clase_especie[:,2])\n",
    "print('La muestra con los pétalos más grandes es:', dimensiones_clase_especie[dimensiones_clase_especie[: , 2] == filtro_max_long_petalo])"
   ]
  },
  {
   "cell_type": "code",
   "execution_count": null,
   "id": "996522fb",
   "metadata": {},
   "outputs": [],
   "source": [
    "#------- EXERCICI 8 --- \n",
    "\n",
    "especie_mean_long_sepalo_petalo = []\n",
    "\n",
    "for especie in filtro_por_especie:\n",
    "    etiqueta_especie = dimensiones_clase_especie[dimensiones_clase_especie[:, 4] == especie]\n",
    "    mean_long_sepalo_petalo = np.mean(etiqueta_especie, axis=0)\n",
    "    especie_mean_long_sepalo_petalo.append(mean_long_sepalo_petalo)\n",
    "\n",
    "arr_especie_mean_long_sepalo_petalo = np.array(especie_mean_long_sepalo_petalo)\n",
    "\n",
    "x = arr_especie_mean_long_sepalo_petalo[0, 0] - arr_especie_mean_long_sepalo_petalo[0, 2]\n",
    "y = arr_especie_mean_long_sepalo_petalo[1, 0] - arr_especie_mean_long_sepalo_petalo[1, 2]\n",
    "z = arr_especie_mean_long_sepalo_petalo[2, 0] - arr_especie_mean_long_sepalo_petalo[2, 2]\n",
    "\n",
    "if x > y and z:\n",
    "    print('La especie con la diferencia más grande entre la longitud mediana de los sépalos y los pétalos es:', nombres_clase_especie[0])\n",
    "elif y > x and z:\n",
    "    print('La especie con la diferencia más grande entre la longitud mediana de los sépalos y los pétalos es:', nombres_clase_especie[1])\n",
    "else:\n",
    "    print('La especie con la diferencia más grande entre la longitud mediana de los sépalos y los pétalos es:', nombres_clase_especie[2])"
   ]
  }
 ],
 "metadata": {
  "kernelspec": {
   "display_name": "Python 3 (ipykernel)",
   "language": "python",
   "name": "python3"
  },
  "language_info": {
   "codemirror_mode": {
    "name": "ipython",
    "version": 3
   },
   "file_extension": ".py",
   "mimetype": "text/x-python",
   "name": "python",
   "nbconvert_exporter": "python",
   "pygments_lexer": "ipython3",
   "version": "3.10.9"
  }
 },
 "nbformat": 4,
 "nbformat_minor": 5
}
